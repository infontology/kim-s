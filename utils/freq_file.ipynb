{
 "cells": [
  {
   "cell_type": "code",
   "execution_count": 27,
   "metadata": {
    "collapsed": true
   },
   "outputs": [],
   "source": [
    "# Den här anteckningsboken tar en fil från KORP och omvandlar till en json-fil med bara\n",
    "# ordet och frekvensinformationen \n",
    "import os"
   ]
  },
  {
   "cell_type": "code",
   "execution_count": 28,
   "metadata": {
    "collapsed": true
   },
   "outputs": [],
   "source": [
    "filename = 'stats_GP2013.txt'"
   ]
  },
  {
   "cell_type": "code",
   "execution_count": 29,
   "metadata": {
    "collapsed": true
   },
   "outputs": [],
   "source": [
    "# load freqs\n",
    "file = open(filename, 'rt')\n",
    "freqs = file.read()\n",
    "file.close()"
   ]
  },
  {
   "cell_type": "code",
   "execution_count": 30,
   "metadata": {},
   "outputs": [
    {
     "name": "stdout",
     "output_type": "stream",
     "text": [
      "[',\\tMID\\t|\\t-\\t551840\\t32707.360928', 'och\\tKN\\t|och..kn.1|\\t-\\t391575\\t23208.511263', 'i\\tPP\\t|i..pp.1|\\t-\\t344328\\t20408.198343', 'är\\tVB.PRS.AKT\\t|vara..vb.1|\\t-\\t251083\\t14881.600290', 'på\\tPP\\t|på..pp.1|\\t-\\t220388\\t13062.318535', 'en\\tDT.UTR.SIN.IND\\t|en..al.1|\\t-\\t212923\\t12619.870635', 'att\\tIE\\t|att..ie.1|\\t-\\t186414\\t11048.691614', 'som\\tHP.-.-.-\\t|\\t-\\t179170\\t10619.342305', 'det\\tPN.NEU.SIN.DEF.SUB+OBJ\\t|den..pn.1|\\t-\\t171442\\t10161.306488', '–\\tMID\\t|\\t-\\t168499\\t9986.875922', 'att\\tSN\\t|att..sn.1|\\t-\\t164660\\t9759.339755', 'för\\tPP\\t|för..pp.1|\\t-\\t162903\\t9655.202989', 'med\\tPP\\t|med..pp.1|\\t-\\t151627\\t8986.878471', 'har\\tVB.PRS.AKT\\t|ha..vb.1|\\t-\\t150394\\t8913.798999', 'av\\tPP\\t|av..pp.1|\\t-\\t143997\\t8534.651079', 'till\\tPP\\t|till..pp.1|\\t-\\t126213\\t7480.599712', 'inte\\tAB\\t|inte..ab.1|\\t-\\t120399\\t7136.005995', 'ett\\tDT.NEU.SIN.IND\\t|en..al.1|\\t-\\t94279\\t5587.882866', 'Det\\tPN.NEU.SIN.DEF.SUB+OBJ\\t|den..pn.1|\\t-\\t85159\\t5047.343703', '”\\tPAD\\t|\\t-\\t81760\\t4845.886180', ':\\tMID\\t|\\t-\\t78931\\t4678.212354', 'den\\tDT.UTR.SIN.DEF\\t|en..al.1|den..pn.1|\\t-\\t75257\\t4460.455678', 'om\\tPP\\t|om..pp.1|\\t-\\t71076\\t4212.649292', 'var\\tVB.PRT.AKT\\t|vara..vb.1|\\t-\\t64702\\t3834.864574', 'jag\\tPN.UTR.SIN.DEF.SUB\\t|jag..pn.1|\\t-\\t63804\\t3781.640433', ')\\tPAD\\t|\\t-\\t60063\\t3559.912691', 'säger\\tVB.PRS.AKT\\t|säga..vb.1|\\t-\\t58738\\t3481.380411', '(\\tPAD\\t|\\t-\\t57695\\t3419.562172', 'vi\\tPN.UTR.PLU.DEF.SUB\\t|vi..pn.1|\\t-\\t57419\\t3403.203750', 'som\\tKN\\t|\\t-\\t56869\\t3370.605445', 'han\\tPN.UTR.SIN.DEF.SUB\\t|han..pn.1|\\t-\\t55752\\t3304.401251', 'från\\tPP\\t|från..pp.1|\\t-\\t54328\\t3220.001277', 'kan\\tVB.PRS.AKT\\t|kunna..vb.1|\\t-\\t53840\\t3191.077690', 'men\\tKN\\t|men..kn.1|\\t-\\t51730\\t3066.018739', 'de\\tDT.UTR+NEU.PLU.DEF\\t|en..al.1|\\t-\\t51020\\t3023.937291', 'man\\tPN.UTR.SIN.IND.SUB\\t|man..pn.1|\\t-\\t45700\\t2708.622779', 'ska\\tVB.PRS.AKT\\t|skola..vb.2|\\t-\\t41624\\t2467.039706', 'så\\tAB\\t|så..ab.1|\\t-\\t41141\\t2438.412467', 'de\\tPN.UTR+NEU.PLU.DEF.SUB\\t|de..pn.1|\\t-\\t39632\\t2348.974573', 'Jag\\tPN.UTR.SIN.DEF.SUB\\t|jag..pn.1|\\t-\\t39067\\t2315.487223', 'Men\\tKN\\t|men..kn.1|\\t-\\t39005\\t2311.812505', 'när\\tHA\\t|när..ab.1|\\t-\\t36473\\t2161.741764', 'det\\tDT.NEU.SIN.DEF\\t|en..al.1|den..pn.1|\\t-\\t33821\\t2004.558665', '?\\tMAD\\t|\\t-\\t32773\\t1942.444077', 'mot\\tPP\\t|mot..pp.1|\\t-\\t32455\\t1923.596330', 'hon\\tPN.UTR.SIN.DEF.SUB\\t|hon..pn.1|\\t-\\t31753\\t1881.989040', 'Vi\\tPN.UTR.PLU.DEF.SUB\\t|vi..pn.1|\\t-\\t29013\\t1719.590212', 'efter\\tPP\\t|efter..pp.1|\\t-\\t27831\\t1649.533492', 'eller\\tKN\\t|eller..kn.1|\\t-\\t27588\\t1635.130968']\n",
      "516721\n"
     ]
    }
   ],
   "source": [
    "# split into lines\n",
    "lines = freqs.split('\\n')\n",
    "print(lines[1:50])\n",
    "print (len(lines))"
   ]
  },
  {
   "cell_type": "code",
   "execution_count": 31,
   "metadata": {
    "collapsed": true
   },
   "outputs": [],
   "source": [
    "freq_dict={}\n",
    "for line in lines:\n",
    "    entry = line.split(\"\\t\")\n",
    "    if len(entry)!=6: \n",
    "        print (\"fel\",line)\n",
    "    else:\n",
    "    #print (entry, len(entry))\n",
    "        freq_dict[entry[0]] = entry[5]"
   ]
  },
  {
   "cell_type": "code",
   "execution_count": 32,
   "metadata": {},
   "outputs": [
    {
     "data": {
      "text/plain": [
       "454020"
      ]
     },
     "execution_count": 32,
     "metadata": {},
     "output_type": "execute_result"
    }
   ],
   "source": [
    "len(freq_dict)"
   ]
  },
  {
   "cell_type": "code",
   "execution_count": 33,
   "metadata": {},
   "outputs": [
    {
     "data": {
      "text/plain": [
       "'59.862342'"
      ]
     },
     "execution_count": 33,
     "metadata": {},
     "output_type": "execute_result"
    }
   ],
   "source": [
    "freq_dict['dotter']"
   ]
  },
  {
   "cell_type": "code",
   "execution_count": 34,
   "metadata": {
    "collapsed": true
   },
   "outputs": [],
   "source": [
    "shortname, extension = os.path.splitext(filename)"
   ]
  },
  {
   "cell_type": "code",
   "execution_count": 35,
   "metadata": {
    "collapsed": true
   },
   "outputs": [],
   "source": [
    "filename_out = shortname + '_out' + extension"
   ]
  },
  {
   "cell_type": "code",
   "execution_count": 36,
   "metadata": {
    "collapsed": true
   },
   "outputs": [],
   "source": [
    "import json\n",
    "\n",
    "with open(filename_out, 'w') as file:\n",
    "     file.write(json.dumps(freq_dict))"
   ]
  },
  {
   "cell_type": "code",
   "execution_count": null,
   "metadata": {
    "collapsed": true
   },
   "outputs": [],
   "source": []
  }
 ],
 "metadata": {
  "kernelspec": {
   "display_name": "Python 3",
   "language": "python",
   "name": "python3"
  },
  "language_info": {
   "codemirror_mode": {
    "name": "ipython",
    "version": 3
   },
   "file_extension": ".py",
   "mimetype": "text/x-python",
   "name": "python",
   "nbconvert_exporter": "python",
   "pygments_lexer": "ipython3",
   "version": "3.6.1"
  }
 },
 "nbformat": 4,
 "nbformat_minor": 2
}
