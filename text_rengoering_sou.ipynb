{
 "cells": [
  {
   "cell_type": "code",
   "execution_count": 1,
   "metadata": {
    "collapsed": true
   },
   "outputs": [],
   "source": [
    "import re"
   ]
  },
  {
   "cell_type": "markdown",
   "metadata": {
    "collapsed": true
   },
   "source": [
    "Den här tar en relativt modern SOU och rensar bort en del av problemen..."
   ]
  },
  {
   "cell_type": "code",
   "execution_count": 2,
   "metadata": {
    "collapsed": true
   },
   "outputs": [],
   "source": [
    "# load data\n",
    "filename = 'till_rensning.txt'\n",
    "file = open(filename, 'rt')\n",
    "text = file.read()\n",
    "file.close()"
   ]
  },
  {
   "cell_type": "code",
   "execution_count": 3,
   "metadata": {},
   "outputs": [],
   "source": [
    "#text"
   ]
  },
  {
   "cell_type": "code",
   "execution_count": 4,
   "metadata": {
    "collapsed": true
   },
   "outputs": [],
   "source": [
    "#text = \"läggs i det arbetet beror på flera faktorer, där kanske framför allt vilka resurser som finns spelar in,\\n\\n378\\n\\nSOU 2016:87\\n\\nArbetet mot diskriminering på lokal och regional nivå\\n\\nmen även vilka problem som man ser finns i länet på diskrimineringsområdet.\\n\\n12.4.5Alternativ\""
   ]
  },
  {
   "cell_type": "code",
   "execution_count": 5,
   "metadata": {},
   "outputs": [],
   "source": [
    "cleaned = re.sub('\\.\\.','',text)"
   ]
  },
  {
   "cell_type": "code",
   "execution_count": 6,
   "metadata": {},
   "outputs": [],
   "source": [
    "cleaned = re.sub(\"\\n\\n[0-9]+\\n\\n.+\\n\\nSOU\\s[0-9]+:[0-9]+\\n\\n\",' ', cleaned)\n",
    "cleaned = re.sub(\"\\n\\n[0-9]+\\n\\nSOU\\s[0-9]+:[0-9]+\\n\\n.+\\n\\n\",' ', cleaned)"
   ]
  },
  {
   "cell_type": "code",
   "execution_count": 7,
   "metadata": {},
   "outputs": [],
   "source": [
    "cleaned = re.sub('- ','', cleaned)"
   ]
  },
  {
   "cell_type": "code",
   "execution_count": 8,
   "metadata": {},
   "outputs": [],
   "source": [
    "#cleaned = re.sub('(?<=\\.[0-9][a-z])',' ', cleaned)\n",
    "#Det är ett problem med avsnittsnummer och att de kommer dikt an första nästa ord, men jag hittar ingen väg framåt"
   ]
  },
  {
   "cell_type": "code",
   "execution_count": 9,
   "metadata": {},
   "outputs": [],
   "source": [
    "#cleaned"
   ]
  },
  {
   "cell_type": "code",
   "execution_count": 10,
   "metadata": {
    "collapsed": true
   },
   "outputs": [],
   "source": [
    "with open('rensad.txt', 'w') as file:\n",
    "     file.write(cleaned)"
   ]
  }
 ],
 "metadata": {
  "kernelspec": {
   "display_name": "Python 3",
   "language": "python",
   "name": "python3"
  },
  "language_info": {
   "codemirror_mode": {
    "name": "ipython",
    "version": 3
   },
   "file_extension": ".py",
   "mimetype": "text/x-python",
   "name": "python",
   "nbconvert_exporter": "python",
   "pygments_lexer": "ipython3",
   "version": "3.6.1"
  }
 },
 "nbformat": 4,
 "nbformat_minor": 2
}
