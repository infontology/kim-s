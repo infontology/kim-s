{
 "cells": [
  {
   "cell_type": "code",
   "execution_count": 314,
   "metadata": {
    "collapsed": true
   },
   "outputs": [],
   "source": [
    "import nltk"
   ]
  },
  {
   "cell_type": "code",
   "execution_count": 315,
   "metadata": {
    "collapsed": true
   },
   "outputs": [],
   "source": [
    "import nltk.tokenize.punkt\n",
    "# Utgår tills vidare från https://machinelearningmastery.com/clean-text-machine-learning-python/ \n",
    "# Det som saknas i nltk laddas ner via konstigt GUI direkt i Python3: >>> import nltk >>> nltk.download()"
   ]
  },
  {
   "cell_type": "code",
   "execution_count": 316,
   "metadata": {
    "collapsed": true
   },
   "outputs": [],
   "source": [
    "# load data\n",
    "filename = 'sou_1944.txt'\n",
    "file = open(filename, 'rt')\n",
    "text = file.read()\n",
    "file.close()"
   ]
  },
  {
   "cell_type": "code",
   "execution_count": 317,
   "metadata": {},
   "outputs": [],
   "source": [
    "avspaerra = re.compile('(?<=\\s\\S)\\s(?!\\S\\S)', re.S)\n",
    "text = re.sub(avspaerra, '', text)\n",
    "text = text.replace('\\n',' ')"
   ]
  },
  {
   "cell_type": "code",
   "execution_count": 318,
   "metadata": {},
   "outputs": [
    {
     "name": "stdout",
     "output_type": "stream",
     "text": [
      "National Library of Sweden  Denna bok digitaliserades på Kungl.\n"
     ]
    }
   ],
   "source": [
    "# split into sentences\n",
    "from nltk import sent_tokenize\n",
    "sentences = sent_tokenize(text)\n",
    "print(sentences[0])"
   ]
  },
  {
   "cell_type": "code",
   "execution_count": 319,
   "metadata": {},
   "outputs": [
    {
     "data": {
      "text/plain": [
       "5459"
      ]
     },
     "execution_count": 319,
     "metadata": {},
     "output_type": "execute_result"
    }
   ],
   "source": [
    "len(sentences)"
   ]
  },
  {
   "cell_type": "code",
   "execution_count": 320,
   "metadata": {},
   "outputs": [
    {
     "name": "stdout",
     "output_type": "stream",
     "text": [
      "['III', '.', 'Kap', '.', 'IV', '.', 'Kap', '.', 'V.', '70', 'Allmänna', 'barnhusets', 'verksamhet', '72', 'Barnhemmens', 'ekonomiska', 'förhållanden', '79', 'Vissa', 'brister', 'hos', 'den', 'slutna', 'barnavården', '85', 'Olika', 'kategorier', 'barnavårdsanstalter', 'enligt', 'kommitténs', 'förslag', 'Vissa', 'lagtekniska', 'spörsmål', 's.', '90', '.', 'Om', 'begreppet', 'barnavårds', 'ans', 'tält', 's.', '90.', 'olika', 'kategorierna', 'barnavårds', 'anstalter', 'enligt', 'kommitténs', 'förslag', 's.', '94', '.', 'Kap', '.', '90', 'De', 'VI', 'Allmänna', 'riktlinjer', 'för', 'barnhemmens', 'verksamhet', 'Allmänna', 'synpunkter', 's.', '96', '.', 'Hem', 'för', 'mödrar', 'och', 'späda', 'barn', '96', '97', 'Gemensamma', 'synpunkter', 's.', '97', '.', 'Mödrahemmen', 's.', '104', '.', 'Hemskolor', 'för', 'mödrar', 's.', '111', '.', 'Vårdhem', 'för', 'mödrar', 's.', '115..', 'Vården', ',', 'av']\n"
     ]
    }
   ],
   "source": [
    "# split into words\n",
    "from nltk.tokenize import word_tokenize\n",
    "tokens = word_tokenize(text)\n",
    "print(tokens[900:1000])"
   ]
  },
  {
   "cell_type": "code",
   "execution_count": 321,
   "metadata": {},
   "outputs": [
    {
     "data": {
      "text/plain": [
       "134686"
      ]
     },
     "execution_count": 321,
     "metadata": {},
     "output_type": "execute_result"
    }
   ],
   "source": [
    "len(tokens)"
   ]
  },
  {
   "cell_type": "code",
   "execution_count": 322,
   "metadata": {},
   "outputs": [
    {
     "name": "stdout",
     "output_type": "stream",
     "text": [
      "['National', 'Library', 'of', 'Sweden', 'Denna', 'bok', 'digitaliserades', 'på', 'Kungl', 'biblioteket', 'år', 'SOCIALDEPARTEMENTET', 'SOCIALVÅRDSKOMMITTÉNS', 'BETÄNKANDE', 'IX', 'UTREDNING', 'OCH', 'FÖRSLAG', 'ANGÅENDE', 'REVISION', 'AV', 'LAGSTIFTNINGEN', 'OM', 'BARNAVÅRDSANSTALTER', 'OCH', 'FOSTERBARNSVÅRD', 'STOCKHOLM', 'Statens', 'offentliga', 'utredningar', 'jf', 'örteckni', 'g', 'Jordbruksbefolkningenslevnadskostnader', 'Av', 'Jo', 'Betänkandemed', 'förslag', 'angåendelångtjänstunderbefälm', 'Beckman', 'Fö', 'Betänkandeangåendenykterhetstillståndetunder', 'krigså', 'Fi', 'Promemoriamod', 'förslag', 'tilllagmedbestämmelser', 'om', 'allmänna', 'behörighetsvillkor', 'för', 'vissa', 'Hseggström', 'Betänkandemed', 'förslag', 'till', 'Betänkandemed', 'förslag', 'till', 'byordningarochinstruktioner', 'för', 'Jo', 'Utredningarangåendeekonomiskefterkrigsplanering', 'Marcus', 'Fi', 'Betänkandemed', 'förslag', 'Ju', 'Processlagbereduingens', 'förslag', 'till', 'lagominförande', 'av', 'Ju', 'Processlagberedningensförslag', 'till', 'Ju', 'Statsmakternaochfolkhushållningenunderden', 'till', 'följd', 'avstormaktskriget', 'inträddakrisen', 'Del', 'Tidenjuli', 'Idun', 'Fo', 'Utredningarangåendeekonomiskefterkrigsplanering', 'Investeringsutredningensbetänkandemed', 'förslag', 'till', 'investeringsreserv', 'av', 'statliga', 'kommunalaochstatsunderstöddaanläggningsarbetenförbudgetåret', 'Marcus', 'Fi', 'Utredningarangåendeekonomiskefterkrigsplanering', 'Bilagortillinvesteringsutredningensbetänkandemed', 'förslag', 'tillinvesteringsreservavstatliga', 'kommunala', 'och', 'statsunderstöddaanläggningsarbetenförbudgetåret', 'Marcus', 'Fi', 'Utredningarangåendeekonomiskefterkrigsplanering', 'Marcus', 'Fi', 'Socialvårdskommitténsbetänkande', 'Utredningoch', 'förslag', 'angåendelagomallmänsjukförsäkring', 'Beckm', 'an', 'Socialvårdskommitténsbetänkande', 'Kostnadsberäkningarangåendelagomallmänsjukförsäkring', 'Beckm', 'an', 'Betänkandemed', 'förslag', 'till', 'åtgärder', 'för', 'främjandet', 'av', 'litteraturtjänsteninom', 'de', 'tekniskafackområdena', 'Haäggström', 'Betänkandemed', 'förslag', 'Om', 'inrättande', 'av', 'ettsamhällsvetenskapligt', 'forskning', 'råd', 'Hajggström', 'årsskolutredningsbetänkandenochutredningar', 'och', 'årsskolutredningsbetänkandenochutredningar', 'Sambandetmellanfolkskola', 'och', 'högre', 'skola', 'Idun', 'årsskolutredningsbetänkandenochutredningar', 'Utredningoch', 'förslag', 'angåendevidgademöjligheter', 'till', 'högre', 'undervisning', 'för', 'landsbygdens', 'ungdom', 'Mim', 'årsskolutredningsbetänkandenochutredningar', 'Förhandlingarna', 'vid', 'sammanträde', 'den', 'loden', 'MP', 'juni', 'med', 'Betänkandemed', 'förslag', 'röranderevisionav', 'lagstiftningen', 'om', 'kvinnas', 'behörighet', 'att', 'innehava', 'statstjänst', 'och', 'Ju', 'Utredningarangåendeekonomiskefterkrigsplanering', 'Promemoriaangåendeyrkesutbildning', 'för', 'Htcggström', 'Betänkandemedutredningoch', 'förslag', 'angåenderätten', 'till', 'årsreumatikervårdssakkunnigasbetänkande', 'Del', 'Utredning', 'och', 'förslag', 'rörandebehovet', 'av', 'ochformenj', 'för', 'statligtunderstöd', 'till', 'utbyggandeinomlandets', 'sjukvårdsväsen', 'av', 'efterbehandling', 'och', 'konvalescentv', 'AB', 'ritn', 'Socialutbildningssakkunniga', 'Utredningoch', 'förslag', 'rörandedenhögresocialpolitiskaochkommunala', 'utb', 'och', 'Ungdomsvårdskommitténs', 'betänkande', 'med', 'utredning', 'och', 'förslag', 'angående', 'stöd', 'Norstedt', 'Slututlåtande', 'avgivet', 'Fi', 'Socialvårdensomfattningochkostnaderefter', 'Beckman', 'Socialvårdskommitténsbetänkande', 'Utredningochi', 'förslag', 'angåenderevisionavlagstiftningen', 'oru', 'särskild', 'tryckort', 'ej', 'angives', 'fetstil', 'utgörabegynnelsebokstäverna', 'till', 'detdepartement', 'undervilketutredningenavgivits', 't', 'ex', 'febr', 'offentliga', 'utredningarsyttreanordning', 'nr', 'utgivasutredningarnaiomslagmedenhetlig', 'färg', 'förvarjedepartement', 'SOCIALDEPARTEMENTET', 'SOCIALVÅRDSKOM', 'MITTENS', 'BETÄNKANDE', 'IX', 'UTREDNING', 'OCH', 'FÖRSLAG', 'ANGÅENDE', 'REVISION', 'AV', 'LAGSTIFTNINGEN', 'OM', 'BARNAVÄRDSANSTALTER', 'OCH', 'FOSTERBARNSVÅRD', 'STOCKHOLM', 'BECKMANS', 'BOKTRYCKERI', 'w', 'VÄ', 'INNEHÅLLSFÖKTECKMNG', 'Sid', 'Skrivelse', 'till', 'Konungen', 'Förslag', 'till', 'lag', 'om', 'ändring', 'i', 'delar', 'av', 'lagen', 'den', 'juni', 'om', 'samhällets', 'barnavård', 'och', 'ungdomsskydal', 'barnavårdslag', 'Förslag', 'till', 'stadga', 'angående', 'barnavårdsanstalter', 'Förslag', 'till', 'kungörelse', 'angående', 'statsbidrag', 'för', 'uppförande', 'eller', 'inrättande', 'av', 'barnhem', 'Förslag', 'till', 'kungörelse', 'angående', 'statsbidrag', 'till', 'driften', 'av', 'barnhem', 'Förslag', 'till', 'stadga', 'angående', 'fosterbarnsvård', 'och', 'fosterbarnskontroll', 'Förslag', 'till', 'förordning', 'om', 'ändring', 'i', 'vissa', 'delar', 'av', 'Kungl', 'stadgan', 'angående', 'enskilda', 'sjukhem', 'och', 'förlossningshem', 'den', 'maj', 'Förslag', 'till', 'förordning', 'om', 'ändrad', 'lydelse', 'av', 'Kungl', 'stadgan', 'angående', 'hotelloch', 'pensionatrörelse', 'den', 'juni', 'Inledning', 'ÅTd', 'I', 'Revision', 'av', 'lagstiftningen', 'angående', 'barnavårdsanstalter', 'Kap', 'Översikt', 'stämmelser', 'över', 'nuvarande', 'barnavårdsanstalter', 'Barnhemmen', 'samt', 'för', 'dem', 'gällande', 'Historik', 'Sammanfattning', 'av', 'nu', 'gällande', 'bestämmelser', 'angående', 'barnhem', 'Uppgifter', 'angående', 'de', 'olika', 'kategorierna', 'barnhem', 'Barnhemmen', 'för', 'tillfällig', 'vård', 'upptagningshem', 'Barnhemmen', 'för', 'stadigvarande', 'vård', 'Barnhemmen', 'för', 'tillfällig', 'och', 'stadigvarande', 'Vård', 'Spädbarnshemmen', 'Mödrahemmen', 'Dispensärbarnhemmen', 'Barnhemmen', 'för', 'svårplacerade', 'barn', 'Barnhemmen', 'för', 'psykopatiska', 'och', 'nervösa', 'barn', 'Antal', 'platser', 'å', 'vissa', 'kategorier', 'barnhemi', 'förhållande', 'till', 'folkmängden', 'Andra', 'barnavårdsanstälter', 'för', 'sluten', 'barnavård', 'Barnpensionat', 'barnhotell', 'Feriehem', 'hem', 'Barnkolonier', 'Anstalter', 'för', 'halvöppen', 'barnavård', 'Kap', 'II', 'Kap', 'III', 'Kap', 'IV', 'Kap', 'Allmänna', 'barnhusets', 'verksamhet', 'Barnhemmens', 'ekonomiska', 'förhållanden', 'Vissa', 'brister', 'hos', 'den', 'slutna', 'barnavården', 'Olika', 'kategorier', 'barnavårdsanstalter', 'enligt', 'kommitténs', 'förslag', 'Vissa', 'lagtekniska', 'spörsmål', 'Om', 'begreppet', 'barnavårds', 'ans', 'tält', 'olika', 'kategorierna', 'barnavårds', 'anstalter', 'enligt', 'kommitténs', 'förslag', 'Kap', 'De', 'VI', 'Allmänna', 'riktlinjer', 'för', 'barnhemmens', 'verksamhet', 'Allmänna', 'synpunkter', 'Hem', 'för', 'mödrar', 'och', 'späda', 'barn', 'Gemensamma', 'synpunkter', 'Mödrahemmen', 'Hemskolor', 'för', 'mödrar', 'Vårdhem', 'för', 'mödrar', 'Vården', 'av', 'efterblivna', 'mödrar', 'Spädbarnshem', 'Sid', 'Upptagningshem', 'Upptagningshemmen', 'såsom', 'observationshem', 'Vistelsetiden', 'å', 'upptagningshemmen', 'Upptagningshemmens', 'platsantal', 'Barnhem', 'för', 'varaktig', 'vård', 'Långvarig', 'barnhemsvård', 'av', 'normala', 'barn', 'Svårplacerade', 'barn', 'Platsantal', 'och', 'differentiering', 'efter', 'ålder', 'och', 'kön', 'vid', 'barnhemmen', 'för', 'varaktig', 'vård', 'Kap', 'VII', 'Huvudmannaskapet', 'för', 'barnavårdsanstalterna', 'Allmänna', 'synpunkter', 'Primärkommunerna', 'som', 'huvudmän', 'Barnavårdsförbunden', 'som', 'huvudmän', 'Staten', 'som', 'huvudman', 'Landstingen', 'som', 'huvudmän', 'Kommitténs', 'förslag', 'angående', 'huvudmannaskapet', 'för', 'barnh', 'emmen', 'Kap', 'VIII', 'Det', 'allmännas', 'ekonomiska', 'stöd', 'till', 'barnhemmen', 'Allmänna', 'synpunkter', 'Statsbidrag', 'för', 'uppförande', 'av', 'barnhem', 'Statsbidrag', 'till', 'driften', 'av', 'barnhem', 'Vissa', 'frågor', 'av', 'administrativ', 'natur', 'Landstingens', 'ekonomiska', 'förpliktelser', 'enligt', 'kommitténs', 'förslag', 'Kostnaderna', 'för', 'det', 'allmännas', 'ekonomiska', 'stöd', 'till', 'barnhemmen', 'Kap', 'IX', 'Frågan', 'om', 'koncessionstvång', 'Allmänna', 'synpunkter', 'Kontrollen', 'vid', 'upprättandet', 'av', 'barnhem', 'Kontrollen', 'vid', 'upprättandet', 'av', 'i', 'övrigt', 'Kap', 'Legala', 'föreskrifter', 'angående', 'barnavårdsanstalternas', 'beskaffenhet', 'Barnavårdsanstalternas', 'beskaffenhet', 'Styrelse', 'ledning', 'och', 'personal', 'Läkarvården', 'vid', 'barnavårdsanstalterna', 'och', 'utskrivningsbestämmelser', 'Kap', 'XI', 'Tillsynen', 'över', 'barnavårdsanstalterna', 'Åtgärder', 'mot', 'missförhållanden', 'i', 'dessa', 'Niivarande', 'bestämmelser', 'angående', 'tillsynen', 'Allmänna', 'synpunkter', 'ifråga', 'om', 'tillsynen', 'över', 'barnavårdsanstalterna', 'Socialstyrelsen', 'som', 'central', 'tillsynsmyndighet', 'Förstärkning', 'av', 'den', 'till', 'länen', 'knutna', 'tillsynen', 'Länsstyrelsens', 'barnavårdsassistenter', 'Barnavårdsnämnderna', 'och', 'tillsynen', 'Åtgärder', 'mot', 'missförhållanden', 'ibarnavårdsanstalt', 'Kap', 'XII', 'Kap', 'XIII', 'Barnhemmen', 'för', 'psykopatiska', 'och', 'nervösa', 'barn', 'Allmänna', 'barnhusets', 'framtida', 'verksamhet', 'Avd', 'II', 'Förslag', 'angående', 'revision', 'av', 'fosterbarnslagstiftningen', 'Kap', 'Historik', 'Kap', 'II', 'Nuvarande', 'bestämmelser', 'angående', 'fosterbarnsvården', 'Statistiska', 'uppgifter', 'års', 'folkräkning', 'Kap', 'III', 'Kap', 'IV', 'Fosterhemsinventeringarna', 'Uppgifter', 'från', 'Erfarenheter', 'från', 'fosterbarnslagstiftningens', 'tillämpning', 'Fosterbarnsbegreppets', 'omfattning', 'Vissa', 'lagtekniska', 'spörsmål', 'Åldersgränserna', 'Frågan', 'om', 'vederlagets', 'betydelse', 'för', 'fosterbarnsbegreppet', 'Barn', 'som', 'fostras', 'hos', 'adoptivföräldrar', 'eller', 'förmyndare', 'Barn', 'som', 'tillfälligtvis', 'vårdas', 'hos', 'annan', 'än', 'föräldrarna', 'Barn', 'i', 'barnhem', 'Fosterbarn', 'enligt', 'barnavårdsnämn', 'dens', 'beslut', 'Kap', 'Frågan', 'om', 'koncessionstvång', 'Koncessionsfrågans', 'tidigare', 'behandling', 'i', 'Sverige', 'Barnavårdsnämnder', 'nas', 'inställning', 'till', 'koncessionsfrågan', 'Utländsk', 'lagstiftning', 'Kom', 'mitténs', 'ståndpunkt', 'i', 'koncessionsfrågan', 'Proceduren', 'Kap', 'VI', 'Kvalifikationer', 'hos', 'fosterhem', 'och', 'barnafostrare', 'Nuvarande', 'lagstiftning', 'samt', 'reformkrav', 'Utländsk', 'lagstiftning', 'angående', 'fosterhems', 'beskaffenhet', 'Kommitténs', 'förslag', 'Kap', 'VII', 'Om', 'tillsynen', 'över', 'fosterbarn', 'och', 'fosterhem', 'Barnavårdsnämndernas', 'allmänna', 'ställning', 'Barnavårdsassistenterna', 'och', 'fosterbarnskontrollen', 'Utländsk', 'lagstiftning', 'angående', 'fosterbarnskontroll', 'Tillsynens', 'utövande', 'Kap', 'VIII', 'Kap', 'IX', 'Kap', 'Kap', 'XI', 'Åtgärder', 'mot', 'missförhållanden', 'i', 'fosterhem', 'Om', 'fosterhémsförmedling', 'Om', 'fosterlönen', 'Om', 'vårdnaden', 'om', 'fosterbarn', 'm', 'Särskilda', 'yttranden', 'Herrar', 'Bexelius', 'och', 'Höjer', 'fröken', 'Rosén', 'Fru', 'Nordgren', 'Fröken', 'Bentzel', 'Fru', 'Malmroth', 'samt', 'fröken', 'Bentzel', 'fru', 'Malmroth', 'och', 'Bilaga', 'Statistisk', 'utredning', 'angående', 'utom', 'äktenskapet', 'födda', 'barn', 'TILL', 'KONUNGEN', 'Genom', 'beslut', 'den', 'december', 'Kungl', 'Maj', 't', 'chefen', 'för', 'socialdepartementet', 'att', 'utse', 'en', 'kommitté', 'bestående', 'av', 'högst', 'nio', 'personer', 'med', 'uppdrag', 'att', 'verkställa', 'en', 'översyn', 'av', 'den', 'svenska', 'socialvården', 'och', 'framlägga', 'därav', 'föranledda', 'förslag', 'På', 'grund', 'av', 'detta', 'bemyndigande', 'tillkallades', 'den', 'januari', 'såsom', 'ledamöter', 'i', 'kommittén', 'landshövdingen', 'Berhh', 'Eriksson', 'byråchefen', 'Bexelius', 'numera', 'ledamoten', 'av', 'riksdagens', 'andra', 'kammare', 'lasarettssysslomannen', 'Hagård', 'numera', 'generaldirektören', 'Höjer', 'ledamoten', 'av', 'riksdagens', 'första', 'kammare', 'professor', 'Ohlin', 'stadsfullmäktiges', 'i', 'Malmö', 'ordförande', 'direktören', 'Olsson', 'ledamöterna', 'av', 'riksdagens', 'andra', 'kammare', 'fru', 'Olivia', 'Nordgren', 'redaktören', 'Österström', 'och', 'lantbrukaren', 'O', 'Wallén', 'Därjämte', 'uppdrogs', 'åt', 'undertecknad', 'Eriksson', 'att', 'såsom', 'ordförande', 'leda', 'kommitténs', 'arbete', 'På', 'därom', 'gjord', 'framställning', 'entledigade', 'chefen', 'för', 'socialdepartementet', 'den', 'maj', 'professor', 'Ohlin', 'från', 'uppdraget', 'och', 'tillkallade', 'ledamoten', 'av', 'riksdagens', 'andra', 'kammare', 'Skoglund', 'att', 'i', 'Ohlins', 'ställe', 'vara']\n"
     ]
    }
   ],
   "source": [
    "# remove all tokens that are not alphabetic\n",
    "words = [word for word in tokens if word.isalpha()]\n",
    "print(words[:1000])"
   ]
  },
  {
   "cell_type": "code",
   "execution_count": 323,
   "metadata": {},
   "outputs": [
    {
     "name": "stdout",
     "output_type": "stream",
     "text": [
      "['och', 'det', 'att', 'i', 'en', 'jag', 'hon', 'som', 'han', 'på', 'den', 'med', 'var', 'sig', 'för', 'så', 'till', 'är', 'men', 'ett', 'om', 'hade', 'de', 'av', 'icke', 'mig', 'du', 'henne', 'då', 'sin', 'nu', 'har', 'inte', 'hans', 'honom', 'skulle', 'hennes', 'där', 'min', 'man', 'ej', 'vid', 'kunde', 'något', 'från', 'ut', 'när', 'efter', 'upp', 'vi', 'dem', 'vara', 'vad', 'över', 'än', 'dig', 'kan', 'sina', 'här', 'ha', 'mot', 'alla', 'under', 'någon', 'eller', 'allt', 'mycket', 'sedan', 'ju', 'denna', 'själv', 'detta', 'åt', 'utan', 'varit', 'hur', 'ingen', 'mitt', 'ni', 'bli', 'blev', 'oss', 'din', 'dessa', 'några', 'deras', 'blir', 'mina', 'samma', 'vilken', 'er', 'sådan', 'vår', 'blivit', 'dess', 'inom', 'mellan', 'sådant', 'varför', 'varje', 'vilka', 'ditt', 'vem', 'vilket', 'sitta', 'sådana', 'vart', 'dina', 'vars', 'vårt', 'våra', 'ert', 'era', 'vilkas']\n"
     ]
    }
   ],
   "source": [
    "from nltk.corpus import stopwords\n",
    "stop_words = stopwords.words('swedish')\n",
    "print(stop_words)"
   ]
  },
  {
   "cell_type": "code",
   "execution_count": 324,
   "metadata": {},
   "outputs": [
    {
     "name": "stdout",
     "output_type": "stream",
     "text": [
      "['national', 'library', 'of', 'sweden', 'bok', 'digitaliserades', 'kungl', 'biblioteket', 'år', 'j', 'socialdepartementet', 'socialvårdskommitténs', 'betänkande', 'ix', 'utredning', 'förslag', 'angående', 'revision', 'lagstiftningen', 'barnavårdsanstalter', 'fosterbarnsvård', 'stockholm', 'statens', 'offentliga', 'utredningar', 'jf', 'örteckni', 'g', 'jordbruksbefolkningenslevnadskostnader', 'elindahlochllemnemarcus', 's', 'jo', 'betänkandemed', 'förslag', 'angåendelångtjänstunderbefälm', 'm', 'beckman', 's', 'fö', 'betänkandeangåendenykterhetstillståndetunder', 'krigså', 'renmarcus', 's', 'fi', 'promemoriamod', 'förslag', 'tilllagmedbestämmelser', 'allmänna', 'behörighetsvillkor', 'vissa', 'kommunalauppdragmm', 'hseggström', 's', 's', 'betänkandemed', 'förslag', 'civilförsvarslagnimbeckman', 's', 's', 'betänkandemed', 'förslag', 'byordningarochinstruktioner', 'ordningsmannenilappbyarnamarcus', 's', 'jo', 'utredningarangåendeekonomiskefterkrigsplanering', 'marcus', 's', 'fi', 'betänkandemed', 'förslag', 'angåenderevisionavriksdagensarbetsformernorstedt', 's', 'processlagbereduingens', 'förslag', 'lagominförande', 'nyarättegångsbalkenmm', 'lagtextnorstedtviij', 's', 'processlagberedningensförslag', 'lagominförandeavnyarättegångsbalkenmm', 'motivmmnorstedt', 's', 'statsmakternaochfolkhushållningenunderden', 'följd', 'avstormaktskriget', 'inträddakrisen', 'del', 'tidenjuli', 'idun', 's', 'fo', 'utredningarangåendeekonomiskefterkrigsplanering', 'investeringsutredningensbetänkandemed', 'förslag', 'investeringsreserv', 'statliga', 'kommunalaochstatsunderstöddaanläggningsarbetenförbudgetåret', 'marcus', 's']\n"
     ]
    }
   ],
   "source": [
    "# convert to lower case\n",
    "tokens = [w.lower() for w in tokens]\n",
    "# remove punctuation from each word\n",
    "import string\n",
    "table = str.maketrans('', '', string.punctuation)\n",
    "stripped = [w.translate(table) for w in tokens]\n",
    "# remove remaining tokens that are not alphabetic\n",
    "words = [word for word in stripped if word.isalpha()]\n",
    "# filter out stop words\n",
    "from nltk.corpus import stopwords\n",
    "stop_words = set(stopwords.words('swedish'))\n",
    "words = [w for w in words if not w in stop_words]\n",
    "print(words[:100])"
   ]
  },
  {
   "cell_type": "code",
   "execution_count": 325,
   "metadata": {},
   "outputs": [
    {
     "data": {
      "text/plain": [
       "\"\\n# load data\\nfilename = 'sou_1944.txt'\\nfile = open(filename, 'rt')\\ntext = file.read()\\nfile.close()\\n# split into words\\nfrom nltk.tokenize import word_tokenize\\ntokens = word_tokenize(text)\\n# stemming of words\\nfrom nltk.stem.porter import PorterStemmer\\nporter = PorterStemmer()\\nstemmed = [porter.stem(word) for word in tokens]\\nprint(stemmed[:100])\\n\""
      ]
     },
     "execution_count": 325,
     "metadata": {},
     "output_type": "execute_result"
    }
   ],
   "source": [
    "\"\"\"\n",
    "# load data\n",
    "filename = 'sou_1944.txt'\n",
    "file = open(filename, 'rt')\n",
    "text = file.read()\n",
    "file.close()\n",
    "# split into words\n",
    "from nltk.tokenize import word_tokenize\n",
    "tokens = word_tokenize(text)\n",
    "# stemming of words\n",
    "from nltk.stem.porter import PorterStemmer\n",
    "porter = PorterStemmer()\n",
    "stemmed = [porter.stem(word) for word in tokens]\n",
    "print(stemmed[:100])\n",
    "\"\"\""
   ]
  },
  {
   "cell_type": "code",
   "execution_count": 326,
   "metadata": {
    "collapsed": true
   },
   "outputs": [],
   "source": [
    "from afinn import Afinn"
   ]
  },
  {
   "cell_type": "code",
   "execution_count": 327,
   "metadata": {
    "collapsed": true
   },
   "outputs": [],
   "source": [
    "# Fixade i afinn.py och laddade ner AFINN-sv-165.txt\n",
    "afinn = Afinn(language='sv')"
   ]
  },
  {
   "cell_type": "code",
   "execution_count": 328,
   "metadata": {},
   "outputs": [
    {
     "data": {
      "text/plain": [
       "0.0"
      ]
     },
     "execution_count": 328,
     "metadata": {},
     "output_type": "execute_result"
    }
   ],
   "source": [
    "afinn.score(sentences[0])"
   ]
  },
  {
   "cell_type": "code",
   "execution_count": 329,
   "metadata": {
    "collapsed": true
   },
   "outputs": [],
   "source": [
    "import numpy as np"
   ]
  },
  {
   "cell_type": "code",
   "execution_count": 330,
   "metadata": {
    "collapsed": true
   },
   "outputs": [],
   "source": [
    "scores = np.empty(len(sentences))"
   ]
  },
  {
   "cell_type": "code",
   "execution_count": 331,
   "metadata": {},
   "outputs": [
    {
     "data": {
      "text/plain": [
       "array([ -1.28822975e-231,  -1.28822975e-231,   2.39597414e-314, ...,\n",
       "         2.43036979e-314,   2.43037096e-314,   2.43037816e-314])"
      ]
     },
     "execution_count": 331,
     "metadata": {},
     "output_type": "execute_result"
    }
   ],
   "source": [
    "scores"
   ]
  },
  {
   "cell_type": "code",
   "execution_count": 332,
   "metadata": {
    "collapsed": true
   },
   "outputs": [],
   "source": [
    "for index, sentence in enumerate(sentences):\n",
    "    scores[index] = afinn.score(sentence)"
   ]
  },
  {
   "cell_type": "code",
   "execution_count": 333,
   "metadata": {},
   "outputs": [
    {
     "data": {
      "text/plain": [
       "array([ 0.,  0.,  0., ...,  0.,  0.,  0.])"
      ]
     },
     "execution_count": 333,
     "metadata": {},
     "output_type": "execute_result"
    }
   ],
   "source": [
    "scores"
   ]
  },
  {
   "cell_type": "code",
   "execution_count": 334,
   "metadata": {},
   "outputs": [
    {
     "data": {
      "text/plain": [
       "16.0"
      ]
     },
     "execution_count": 334,
     "metadata": {},
     "output_type": "execute_result"
    }
   ],
   "source": [
    "np.max(scores)"
   ]
  },
  {
   "cell_type": "code",
   "execution_count": 335,
   "metadata": {},
   "outputs": [
    {
     "data": {
      "text/plain": [
       "(array([4426]),)"
      ]
     },
     "execution_count": 335,
     "metadata": {},
     "output_type": "execute_result"
    }
   ],
   "source": [
    "np.where(scores==16.0)"
   ]
  },
  {
   "cell_type": "code",
   "execution_count": 336,
   "metadata": {},
   "outputs": [
    {
     "data": {
      "text/plain": [
       "16.0"
      ]
     },
     "execution_count": 336,
     "metadata": {},
     "output_type": "execute_result"
    }
   ],
   "source": [
    "scores[4426]"
   ]
  },
  {
   "cell_type": "code",
   "execution_count": 337,
   "metadata": {},
   "outputs": [
    {
     "data": {
      "text/plain": [
       "'Ett anmärkningsvärt stort antal nämnder (22) ha emellertid uttalat, att någon skillnad i detta hänseende icke bor upprätthållas mellan fosterhem, som mottaga barnbarn, och övriga fosterhem Flera nämnder understryka, att fosterföräldrar, som uppnått en hog ålder icke bli lämpligare, därför att de äro släkt med barnet, och yttranden sådana som dessa förkomma: »Enligt nämndens mening aro mor- och farföräldrar i regel mindre lämpliga som fosterföräldrar (Örebro); »Att dessa hem hos gamla anhöriga skulle vara på något sätt bättre än fosterhem hos andra oskylda åldringar kan nämnden emellertid ej hålla med om» (Arvika); »Då far- och morföräldrarna ge nämnden de avgjort mesta besvärligheterna, bör för denna kategori stadgas, att de skola anses lämpliga, endast om de äro relativt unga och arbetsföra» (Fagerhult); samt »De fosterbarn, som ha de sämsta hemmen, vårdas ofta av gamla far- och morföräldrar» (Domnarvet).'"
      ]
     },
     "execution_count": 337,
     "metadata": {},
     "output_type": "execute_result"
    }
   ],
   "source": [
    "sentences[4426]"
   ]
  },
  {
   "cell_type": "code",
   "execution_count": 338,
   "metadata": {},
   "outputs": [
    {
     "data": {
      "text/plain": [
       "-11.0"
      ]
     },
     "execution_count": 338,
     "metadata": {},
     "output_type": "execute_result"
    }
   ],
   "source": [
    "np.min(scores)"
   ]
  },
  {
   "cell_type": "code",
   "execution_count": 339,
   "metadata": {
    "collapsed": true
   },
   "outputs": [],
   "source": [
    "index = np.where(scores==np.min(scores))"
   ]
  },
  {
   "cell_type": "code",
   "execution_count": 340,
   "metadata": {},
   "outputs": [
    {
     "data": {
      "text/plain": [
       "4791"
      ]
     },
     "execution_count": 340,
     "metadata": {},
     "output_type": "execute_result"
    }
   ],
   "source": [
    "index[0][0]"
   ]
  },
  {
   "cell_type": "code",
   "execution_count": 341,
   "metadata": {},
   "outputs": [
    {
     "data": {
      "text/plain": [
       "'a. på talan av barnavårdsnämnd — förordna, att vårdnaden skall tillkomma allenast den ene av föräldrarna, därest den andre gör sig skyldig till grovt missbruk eller till grov försummelse vid vårdnadens utövande, eller om han är hemfallen åt missbruk av rusgivande medel eller för ett lastbart liv, eller om han till följd av frånvaro, sjukdom eller annan orsak är för längre tid förhindrad deltaga i vårdnaden.'"
      ]
     },
     "execution_count": 341,
     "metadata": {},
     "output_type": "execute_result"
    }
   ],
   "source": [
    "sentences[np.where(scores==np.min(scores))[0][0]]"
   ]
  },
  {
   "cell_type": "code",
   "execution_count": 343,
   "metadata": {
    "collapsed": true
   },
   "outputs": [],
   "source": [
    "text2 = nltk.Text(word.lower() for word in text)"
   ]
  },
  {
   "cell_type": "code",
   "execution_count": 344,
   "metadata": {},
   "outputs": [
    {
     "name": "stdout",
     "output_type": "stream",
     "text": [
      "No matches\n"
     ]
    }
   ],
   "source": [
    "text2.concordance(\"andre\")"
   ]
  },
  {
   "cell_type": "code",
   "execution_count": 345,
   "metadata": {},
   "outputs": [
    {
     "data": {
      "text/plain": [
       "<Text: n a t i o n a l...>"
      ]
     },
     "execution_count": 345,
     "metadata": {},
     "output_type": "execute_result"
    }
   ],
   "source": [
    "text2"
   ]
  },
  {
   "cell_type": "code",
   "execution_count": 346,
   "metadata": {},
   "outputs": [
    {
     "data": {
      "text/plain": [
       "831819"
      ]
     },
     "execution_count": 346,
     "metadata": {},
     "output_type": "execute_result"
    }
   ],
   "source": [
    "len(text2)"
   ]
  },
  {
   "cell_type": "code",
   "execution_count": 347,
   "metadata": {},
   "outputs": [
    {
     "name": "stdout",
     "output_type": "stream",
     "text": [
      "No matches\n"
     ]
    }
   ],
   "source": [
    "text2.similar('sig')"
   ]
  },
  {
   "cell_type": "code",
   "execution_count": 348,
   "metadata": {},
   "outputs": [],
   "source": [
    "text2 = word_tokenize(text)"
   ]
  },
  {
   "cell_type": "code",
   "execution_count": 349,
   "metadata": {
    "collapsed": true
   },
   "outputs": [],
   "source": [
    "tagged = nltk.pos_tag(text)"
   ]
  },
  {
   "cell_type": "code",
   "execution_count": 350,
   "metadata": {
    "collapsed": true
   },
   "outputs": [],
   "source": [
    "tagged = np.array(tagged)"
   ]
  },
  {
   "cell_type": "code",
   "execution_count": 351,
   "metadata": {
    "collapsed": true
   },
   "outputs": [],
   "source": [
    "words = tagged[:,0]"
   ]
  },
  {
   "cell_type": "code",
   "execution_count": 352,
   "metadata": {},
   "outputs": [
    {
     "data": {
      "text/plain": [
       "array(['N', 'a', 't', ..., ' ', ' ', '\\x0c'],\n",
       "      dtype='<U4')"
      ]
     },
     "execution_count": 352,
     "metadata": {},
     "output_type": "execute_result"
    }
   ],
   "source": [
    "words"
   ]
  },
  {
   "cell_type": "code",
   "execution_count": 353,
   "metadata": {},
   "outputs": [
    {
     "ename": "IndexError",
     "evalue": "index 2 is out of bounds for axis 0 with size 2",
     "output_type": "error",
     "traceback": [
      "\u001b[0;31m---------------------------------------------------------------------------\u001b[0m",
      "\u001b[0;31mIndexError\u001b[0m                                Traceback (most recent call last)",
      "\u001b[0;32m<ipython-input-353-4a90f2de10d6>\u001b[0m in \u001b[0;36m<module>\u001b[0;34m()\u001b[0m\n\u001b[1;32m      1\u001b[0m \u001b[0;32mfor\u001b[0m \u001b[0mword\u001b[0m \u001b[0;32min\u001b[0m \u001b[0mtagged\u001b[0m\u001b[0;34m:\u001b[0m\u001b[0;34m\u001b[0m\u001b[0m\n\u001b[0;32m----> 2\u001b[0;31m     \u001b[0mword\u001b[0m\u001b[0;34m[\u001b[0m\u001b[0;36m2\u001b[0m\u001b[0;34m]\u001b[0m \u001b[0;34m=\u001b[0m \u001b[0mlen\u001b[0m\u001b[0;34m(\u001b[0m\u001b[0mword\u001b[0m\u001b[0;34m[\u001b[0m\u001b[0;36m0\u001b[0m\u001b[0;34m]\u001b[0m\u001b[0;34m)\u001b[0m\u001b[0;34m\u001b[0m\u001b[0m\n\u001b[0m",
      "\u001b[0;31mIndexError\u001b[0m: index 2 is out of bounds for axis 0 with size 2"
     ]
    }
   ],
   "source": [
    "for word in tagged:\n",
    "    word[2] = len(word[0])"
   ]
  },
  {
   "cell_type": "code",
   "execution_count": 354,
   "metadata": {
    "collapsed": true
   },
   "outputs": [],
   "source": [
    "emp = np.empty(len(tagged))"
   ]
  },
  {
   "cell_type": "code",
   "execution_count": 355,
   "metadata": {},
   "outputs": [
    {
     "data": {
      "text/plain": [
       "array([ 0.,  0.,  0., ...,  0.,  0.,  0.])"
      ]
     },
     "execution_count": 355,
     "metadata": {},
     "output_type": "execute_result"
    }
   ],
   "source": [
    "emp"
   ]
  },
  {
   "cell_type": "code",
   "execution_count": 356,
   "metadata": {},
   "outputs": [
    {
     "data": {
      "text/plain": [
       "(831819,)"
      ]
     },
     "execution_count": 356,
     "metadata": {},
     "output_type": "execute_result"
    }
   ],
   "source": [
    "np.array(emp).shape"
   ]
  },
  {
   "cell_type": "code",
   "execution_count": 357,
   "metadata": {},
   "outputs": [
    {
     "ename": "ValueError",
     "evalue": "all the input array dimensions except for the concatenation axis must match exactly",
     "output_type": "error",
     "traceback": [
      "\u001b[0;31m---------------------------------------------------------------------------\u001b[0m",
      "\u001b[0;31mValueError\u001b[0m                                Traceback (most recent call last)",
      "\u001b[0;32m<ipython-input-357-9082fe574bed>\u001b[0m in \u001b[0;36m<module>\u001b[0;34m()\u001b[0m\n\u001b[0;32m----> 1\u001b[0;31m \u001b[0mnp\u001b[0m\u001b[0;34m.\u001b[0m\u001b[0mhstack\u001b[0m\u001b[0;34m(\u001b[0m\u001b[0;34m(\u001b[0m\u001b[0mtagged\u001b[0m\u001b[0;34m,\u001b[0m \u001b[0;34m[\u001b[0m\u001b[0memp\u001b[0m\u001b[0;34m]\u001b[0m\u001b[0;34m)\u001b[0m\u001b[0;34m)\u001b[0m\u001b[0;34m\u001b[0m\u001b[0m\n\u001b[0m",
      "\u001b[0;32m~/anaconda/envs/traffic_signs/lib/python3.5/site-packages/numpy/core/shape_base.py\u001b[0m in \u001b[0;36mhstack\u001b[0;34m(tup)\u001b[0m\n\u001b[1;32m    291\u001b[0m         \u001b[0;32mreturn\u001b[0m \u001b[0m_nx\u001b[0m\u001b[0;34m.\u001b[0m\u001b[0mconcatenate\u001b[0m\u001b[0;34m(\u001b[0m\u001b[0marrs\u001b[0m\u001b[0;34m,\u001b[0m \u001b[0;36m0\u001b[0m\u001b[0;34m)\u001b[0m\u001b[0;34m\u001b[0m\u001b[0m\n\u001b[1;32m    292\u001b[0m     \u001b[0;32melse\u001b[0m\u001b[0;34m:\u001b[0m\u001b[0;34m\u001b[0m\u001b[0m\n\u001b[0;32m--> 293\u001b[0;31m         \u001b[0;32mreturn\u001b[0m \u001b[0m_nx\u001b[0m\u001b[0;34m.\u001b[0m\u001b[0mconcatenate\u001b[0m\u001b[0;34m(\u001b[0m\u001b[0marrs\u001b[0m\u001b[0;34m,\u001b[0m \u001b[0;36m1\u001b[0m\u001b[0;34m)\u001b[0m\u001b[0;34m\u001b[0m\u001b[0m\n\u001b[0m\u001b[1;32m    294\u001b[0m \u001b[0;34m\u001b[0m\u001b[0m\n\u001b[1;32m    295\u001b[0m \u001b[0;34m\u001b[0m\u001b[0m\n",
      "\u001b[0;31mValueError\u001b[0m: all the input array dimensions except for the concatenation axis must match exactly"
     ]
    }
   ],
   "source": [
    "np.hstack((tagged, [emp]))"
   ]
  },
  {
   "cell_type": "code",
   "execution_count": 358,
   "metadata": {},
   "outputs": [],
   "source": [
    "nl_text = nltk.Text(tokens)"
   ]
  },
  {
   "cell_type": "code",
   "execution_count": 359,
   "metadata": {},
   "outputs": [
    {
     "name": "stdout",
     "output_type": "stream",
     "text": [
      "enligt kommitténs; kommitténs mening; stadigvarande vård; kommitténs\n",
      "förslag; hänsyn till; späda barn; med hänsyn; samband med; och\n",
      "uppfostran; hög grad; allmänna barnhuset; för närvarande; kommittén\n",
      "har; halvöppen barnavård; framför allt; detta sammanhang; varaktig\n",
      "vård; sakens natur; den mån; vård och\n"
     ]
    }
   ],
   "source": [
    "nl_text.collocations()"
   ]
  },
  {
   "cell_type": "code",
   "execution_count": 360,
   "metadata": {},
   "outputs": [
    {
     "data": {
      "text/plain": [
       "<Text: national library of sweden denna bok digitaliserades på...>"
      ]
     },
     "execution_count": 360,
     "metadata": {},
     "output_type": "execute_result"
    }
   ],
   "source": [
    "nl_text"
   ]
  },
  {
   "cell_type": "code",
   "execution_count": 361,
   "metadata": {},
   "outputs": [
    {
     "data": {
      "text/plain": [
       "134686"
      ]
     },
     "execution_count": 361,
     "metadata": {},
     "output_type": "execute_result"
    }
   ],
   "source": [
    "len(nl_text)"
   ]
  },
  {
   "cell_type": "code",
   "execution_count": 363,
   "metadata": {},
   "outputs": [
    {
     "data": {
      "text/plain": [
       "['i',\n",
       " 'kommunallagarna',\n",
       " '!',\n",
       " '2',\n",
       " 'mom',\n",
       " '.',\n",
       " 'barnavårdsnämnden',\n",
       " 'bör',\n",
       " 'utvecklingen',\n",
       " 'av',\n",
       " 'barnavårdsanstalter',\n",
       " 'och',\n",
       " 'ungdoms',\n",
       " 'välfärd',\n",
       " '.',\n",
       " 'barnavårdsnämnden',\n",
       " 'åligger',\n",
       " 'formerna',\n",
       " 'därför',\n",
       " '.',\n",
       " 'h',\n",
       " '§',\n",
       " '.',\n",
       " '1',\n",
       " 'mom',\n",
       " '.',\n",
       " 'barnavårdsnämnden',\n",
       " 'bör',\n",
       " 'av',\n",
       " 'arbetet',\n",
       " '.',\n",
       " '2',\n",
       " 'mom',\n",
       " '.',\n",
       " 'jämväl',\n",
       " 'för',\n",
       " '—',\n",
       " 'eller',\n",
       " 'stiftelse',\n",
       " '.',\n",
       " 'barnavårdsnämnden',\n",
       " 'må',\n",
       " 'barnavårdsnämndens',\n",
       " 'angelägenhet',\n",
       " '.',\n",
       " 'där',\n",
       " 'ej',\n",
       " 'särskilda',\n",
       " 'omständigheter',\n",
       " 'annat',\n",
       " 'föranleda',\n",
       " ',',\n",
       " 'skall',\n",
       " 'nämnden',\n",
       " 'utse',\n",
       " 'en',\n",
       " 'eller',\n",
       " 'flera',\n",
       " 'ledamöter',\n",
       " 'eller',\n",
       " 'suppleanter',\n",
       " 'i',\n",
       " 'nämnden',\n",
       " '(',\n",
       " 'anstaltsdelegerade',\n",
       " ')',\n",
       " 'att',\n",
       " 'ägna',\n",
       " 'särskild',\n",
       " 'uppmärksamhet',\n",
       " 'åt',\n",
       " 'de',\n",
       " 'inom',\n",
       " 'kommunen',\n",
       " 'belägna',\n",
       " 'barnavårdsanstalternas',\n",
       " 'verksamhet',\n",
       " '.',\n",
       " '17',\n",
       " '§',\n",
       " '.',\n",
       " 'vill',\n",
       " 'någon',\n",
       " 'eller',\n",
       " 'ordföranden',\n",
       " '.',\n",
       " 'kommunal',\n",
       " 'myndighet',\n",
       " ',',\n",
       " 'befattningshavare',\n",
       " 'i',\n",
       " 'statens',\n",
       " ',',\n",
       " 'landstingets',\n",
       " 'eller',\n",
       " 'kommunens',\n",
       " 'tjänst',\n",
       " 'så',\n",
       " 'ock',\n",
       " 'i',\n",
       " 'dylik',\n",
       " 'tjänst',\n",
       " 'ej',\n",
       " 'anställd',\n",
       " 'läkare',\n",
       " ',',\n",
       " 'sjuksköterska',\n",
       " 'eller',\n",
       " 'barn-',\n",
       " '10',\n",
       " 'morska',\n",
       " 'hava',\n",
       " 'att',\n",
       " ',',\n",
       " 'då',\n",
       " 'de',\n",
       " 'i',\n",
       " 'sin',\n",
       " 'verksamhet',\n",
       " 'erhållit',\n",
       " 'kännedom',\n",
       " 'om',\n",
       " 'förhållanden',\n",
       " ',',\n",
       " 'som',\n",
       " 'böra',\n",
       " 'föranleda',\n",
       " 'nämndens',\n",
       " 'ingripande',\n",
       " ',',\n",
       " 'ofördröjligen',\n",
       " 'göra',\n",
       " 'anmälan',\n",
       " 'därom',\n",
       " '.',\n",
       " '2kap',\n",
       " '.',\n",
       " 'om',\n",
       " 'uppsikt',\n",
       " 'över',\n",
       " 'samhällets',\n",
       " 'barnavård',\n",
       " '.',\n",
       " '..',\n",
       " 'fl',\n",
       " ';',\n",
       " ';',\n",
       " ';',\n",
       " '.20§',\n",
       " '``',\n",
       " \"'\",\n",
       " 'länsstyrelserna',\n",
       " 'hava',\n",
       " '—',\n",
       " ':',\n",
       " '.——*-•',\n",
       " 'omständigheterna',\n",
       " 'påkallas',\n",
       " '.',\n",
       " 'i',\n",
       " 'allt',\n",
       " 'vad',\n",
       " 'som',\n",
       " 'rör',\n",
       " 'länsstyrelsens',\n",
       " 'befattning',\n",
       " 'med',\n",
       " 'kommunernas',\n",
       " 'barnavård',\n",
       " 'skola',\n",
       " 'länsstyrelserna',\n",
       " 'hava',\n",
       " 'biträde',\n",
       " 'av',\n",
       " 'barnavårdskonsulenter',\n",
       " 'och',\n",
       " 'barnavårdsassistenter',\n",
       " ',',\n",
       " 'vilka',\n",
       " 'jämväl',\n",
       " 'skola',\n",
       " 'hava',\n",
       " 'till',\n",
       " 'uppgift',\n",
       " 'att',\n",
       " 'tillhandagå',\n",
       " 'med',\n",
       " 'upplysningar',\n",
       " 'och',\n",
       " 'råd',\n",
       " 'rörande',\n",
       " 'barnavården',\n",
       " '.',\n",
       " 'befattningen',\n",
       " 'som',\n",
       " 'barnavårdskonsulent',\n",
       " 'skall',\n",
       " 'innehavas',\n",
       " 'av',\n",
       " 'fattigvårdskonsulent',\n",
       " ',',\n",
       " 'varom',\n",
       " 'förmäles',\n",
       " 'i',\n",
       " 'lagen',\n",
       " 'om',\n",
       " 'fattigvården',\n",
       " '.',\n",
       " 'konungen',\n",
       " 'utfärdar',\n",
       " 'instruktion',\n",
       " 'för',\n",
       " 'fattigvårdskonsulenterna',\n",
       " 'i',\n",
       " 'deras',\n",
       " 'egenskap',\n",
       " 'av',\n",
       " 'jämväl',\n",
       " 'barnavårdskonsulenter',\n",
       " '.',\n",
       " 'länsstyrelsen',\n",
       " 'har',\n",
       " 'att',\n",
       " 'utfärda',\n",
       " 'föreskrifter',\n",
       " 'angående',\n",
       " 'fördelningen',\n",
       " '»',\n",
       " 'j',\n",
       " 'mellan',\n",
       " 'barnavårdskonsulent',\n",
       " 'och',\n",
       " 'länets',\n",
       " 'barnavår',\n",
       " 'ds',\n",
       " 'assistent',\n",
       " 'av',\n",
       " 'sådana',\n",
       " 'arbetsuppgifter',\n",
       " ',',\n",
       " 'vilka',\n",
       " 'icke',\n",
       " 'enligt',\n",
       " 'lag',\n",
       " 'eller',\n",
       " 'författning',\n",
       " 'eller',\n",
       " 'förenämnda',\n",
       " 'instruktion',\n",
       " 'uteslutande',\n",
       " 'tillkomma',\n",
       " 'någon',\n",
       " 'av',\n",
       " 'dessa',\n",
       " 'befattningshavare',\n",
       " '.',\n",
       " 'där',\n",
       " 'så',\n",
       " '•—',\n",
       " '——',\n",
       " 'ungdoms',\n",
       " 'vård',\n",
       " '.',\n",
       " 'där',\n",
       " '—',\n",
       " 'vård',\n",
       " '.',\n",
       " ':',\n",
       " '•',\n",
       " '>',\n",
       " '••',\n",
       " '21',\n",
       " '§',\n",
       " '.',\n",
       " 'jämte',\n",
       " 'det',\n",
       " 'dess',\n",
       " 'utveckling',\n",
       " 'i',\n",
       " 'fråga',\n",
       " '—',\n",
       " \"'\",\n",
       " '—',\n",
       " \"'—\",\n",
       " 'närmare',\n",
       " 'föreskrifter',\n",
       " '.',\n",
       " \"barnavårdsanstalterna'skola\",\n",
       " 'stå',\n",
       " 'under',\n",
       " 'socialstyrelsens',\n",
       " 'tillsyn',\n",
       " '.',\n",
       " 'angående',\n",
       " 'tillsyn',\n",
       " 'förordnar',\n",
       " 'konungen',\n",
       " '.',\n",
       " '4',\n",
       " 'kap',\n",
       " '.',\n",
       " 'om',\n",
       " 'behandlingen',\n",
       " 'av',\n",
       " 'omhändertagna',\n",
       " '.',\n",
       " '33',\n",
       " '§',\n",
       " '.',\n",
       " 'där',\n",
       " 'ej',\n",
       " 'tillfredsställande',\n",
       " 'observation',\n",
       " 'av',\n",
       " 'omhändertaget',\n",
       " 'barn',\n",
       " 'kommer',\n",
       " 'till',\n",
       " 'stånd',\n",
       " 'i',\n",
       " 'annan',\n",
       " 'ordning',\n",
       " ',',\n",
       " 'bör',\n",
       " 'barnet',\n",
       " 'för',\n",
       " 'sådant',\n",
       " 'ändamål',\n",
       " 'intagas',\n",
       " 'å',\n",
       " 'upptagningshem',\n",
       " ',',\n",
       " 'varom',\n",
       " 'förmäles',\n",
       " 'i5',\n",
       " 'kap',\n",
       " '.',\n",
       " 'så',\n",
       " 'bör',\n",
       " 'ock',\n",
       " ',',\n",
       " 'där',\n",
       " 'ej',\n",
       " 'särskilda',\n",
       " 'omständigheter',\n",
       " 'annat',\n",
       " 'föranleda',\n",
       " ',',\n",
       " 'ske',\n",
       " 'om',\n",
       " 'av',\n",
       " 'annan',\n",
       " 'anledning',\n",
       " 'avgörande',\n",
       " 'ej',\n",
       " 'omedelbart',\n",
       " 'kan',\n",
       " 'träffas',\n",
       " 'rörande',\n",
       " 'den',\n",
       " 'för',\n",
       " 'omhändertaget',\n",
       " 'barn',\n",
       " 'lämpligaste',\n",
       " 'vhxåformen',\n",
       " ';',\n",
       " 'och',\n",
       " 'må',\n",
       " ',',\n",
       " 'där',\n",
       " 'plats',\n",
       " 'å',\n",
       " 'upptagningshem',\n",
       " 'inom',\n",
       " 'länet',\n",
       " 'ej',\n",
       " 'omedelbart',\n",
       " 'står',\n",
       " 'till',\n",
       " 'buds',\n",
       " ',',\n",
       " 'barnet',\n",
       " 'för',\n",
       " 'tillfället',\n",
       " 'intagas',\n",
       " 'i',\n",
       " 'anstalt',\n",
       " 'som',\n",
       " 'omförmäles',\n",
       " 'i',\n",
       " '31',\n",
       " '§',\n",
       " 'lagen',\n",
       " 'om',\n",
       " 'fattigvården',\n",
       " '.',\n",
       " 'barn',\n",
       " ',',\n",
       " 'som',\n",
       " 'här',\n",
       " 'avses',\n",
       " ',',\n",
       " 'må',\n",
       " 'ej',\n",
       " 'utan',\n",
       " 'medgivande',\n",
       " 'av',\n",
       " 'barnavårdsassistent',\n",
       " 'vistas',\n",
       " 'å',\n",
       " 'sådan',\n",
       " 'anstalt',\n",
       " 'under',\n",
       " 'längre',\n",
       " 'tid',\n",
       " 'än',\n",
       " 'en',\n",
       " 'månad',\n",
       " '.',\n",
       " '34',\n",
       " '§',\n",
       " '.',\n",
       " '1',\n",
       " 'mom',\n",
       " '.',\n",
       " 'omhändertaget',\n",
       " 'barn',\n",
       " ',',\n",
       " 'som',\n",
       " 'icke',\n",
       " 'är',\n",
       " 'vanartat',\n",
       " ',',\n",
       " 'skall',\n",
       " ',',\n",
       " 'där',\n",
       " 'ej',\n",
       " 'särskilda',\n",
       " 'omständigheter',\n",
       " 'annat',\n",
       " 'föranleda',\n",
       " ',',\n",
       " 'utackorderas',\n",
       " 'i',\n",
       " 'ett',\n",
       " 'för',\n",
       " 'ändamålet',\n",
       " 'lämpat',\n",
       " 'enskilt',\n",
       " 'hem',\n",
       " '.',\n",
       " '•••',\n",
       " '.',\n",
       " ',',\n",
       " 'tjtackordering',\n",
       " 'får',\n",
       " 'endast',\n",
       " 'ske',\n",
       " 'till',\n",
       " 'personer',\n",
       " ',',\n",
       " 'rörande',\n",
       " 'vilkas',\n",
       " 'lämplighet',\n",
       " '.',\n",
       " 'och',\n",
       " '.',\n",
       " 'förmåga',\n",
       " 'att',\n",
       " 'uppfylla',\n",
       " 'de',\n",
       " 'skyldigheter',\n",
       " ',',\n",
       " 'som',\n",
       " 'för',\n",
       " 'vart',\n",
       " 'fall',\n",
       " 'åligga',\n",
       " 'dem',\n",
       " ',',\n",
       " 'nämnden',\n",
       " '11',\n",
       " 'genom',\n",
       " 'föregående',\n",
       " 'undersökning',\n",
       " 'gjort',\n",
       " 'sig',\n",
       " 'förvissad',\n",
       " '.',\n",
       " 'om',\n",
       " 'utackorderingen',\n",
       " 'bor',\n",
       " 'träffas',\n",
       " 'skriftligt',\n",
       " 'avtal',\n",
       " ',',\n",
       " 'i',\n",
       " 'vilket',\n",
       " 'ömsesidiga',\n",
       " 'skyldigheter',\n",
       " 'och',\n",
       " 'rättigheter',\n",
       " 'angivas',\n",
       " '.',\n",
       " '2',\n",
       " 'mom',\n",
       " '.',\n",
       " 'föranleda',\n",
       " 'särskilda',\n",
       " 'omständigheter',\n",
       " ',',\n",
       " 'att',\n",
       " 'omhändertaget',\n",
       " 'barn',\n",
       " ',',\n",
       " 'som',\n",
       " 'icke',\n",
       " 'är',\n",
       " 'vanartat',\n",
       " ',',\n",
       " 'ej',\n",
       " 'lämpligen',\n",
       " 'bör',\n",
       " 'vårdas',\n",
       " 'i',\n",
       " 'enskilt',\n",
       " 'hem',\n",
       " ',',\n",
       " 'eller',\n",
       " 'finnes',\n",
       " 'ej',\n",
       " 'sådant',\n",
       " 'att',\n",
       " 'tillgå',\n",
       " ',',\n",
       " 'bör',\n",
       " 'barnet',\n",
       " 'överlämnas',\n",
       " 'till',\n",
       " 'barnhem',\n",
       " ',',\n",
       " 'varom',\n",
       " 'förmäles',\n",
       " 'i5',\n",
       " 'kap',\n",
       " '.',\n",
       " '3',\n",
       " 'mom',\n",
       " '.',\n",
       " 'nämnden',\n",
       " 'skall',\n",
       " 'övervaka',\n",
       " ',',\n",
       " 'att',\n",
       " 'den',\n",
       " ',',\n",
       " 'som',\n",
       " 'mottagit',\n",
       " 'bam',\n",
       " 'till',\n",
       " 'vård',\n",
       " ',',\n",
       " 'fullgör',\n",
       " 'sina',\n",
       " 'skyldigheter',\n",
       " '.',\n",
       " 'nämnden',\n",
       " 'bör',\n",
       " 'även',\n",
       " 'med',\n",
       " 'uppmärksamhet',\n",
       " 'följa',\n",
       " 'barnets',\n",
       " 'utveckling',\n",
       " 'och',\n",
       " 'verka',\n",
       " 'för',\n",
       " 'att',\n",
       " 'det',\n",
       " 'erhåller',\n",
       " 'den',\n",
       " 'utbildning',\n",
       " ',',\n",
       " 'som',\n",
       " 'med',\n",
       " 'hänsyn',\n",
       " 'till',\n",
       " 'barnets',\n",
       " 'anlag',\n",
       " 'och',\n",
       " 'övriga',\n",
       " 'omständigheter',\n",
       " 'finnes',\n",
       " 'lämplig',\n",
       " '.',\n",
       " 'har',\n",
       " 'barnet',\n",
       " 'överlämnats',\n",
       " 'till',\n",
       " 'barnhem',\n",
       " 'inom',\n",
       " 'annan',\n",
       " 'kommun',\n",
       " ',',\n",
       " 'skall',\n",
       " 'anmälan',\n",
       " 'härom',\n",
       " 'ofördröj',\n",
       " 'ligen',\n",
       " 'göras',\n",
       " 'hos',\n",
       " 'barnavårdsnämnden',\n",
       " 'därstädes',\n",
       " '.',\n",
       " '.',\n",
       " ';',\n",
       " '5',\n",
       " 'kap',\n",
       " '.',\n",
       " 'om',\n",
       " 'barnavårdsanstalter',\n",
       " 'och',\n",
       " 'skyddshem',\n",
       " 'm.',\n",
       " 'm.',\n",
       " 'b',\n",
       " 'ar',\n",
       " 'nav',\n",
       " 'år',\n",
       " 'ds',\n",
       " 'an',\n",
       " 'st',\n",
       " 'al',\n",
       " 't',\n",
       " 'er',\n",
       " '.',\n",
       " '39',\n",
       " '§',\n",
       " '.',\n",
       " '1',\n",
       " 'mom',\n",
       " '.',\n",
       " 'med',\n",
       " 'barnavår',\n",
       " 'ds',\n",
       " 'anstalt',\n",
       " 'förstås',\n",
       " 'i',\n",
       " 'denna',\n",
       " 'lag',\n",
       " 'för',\n",
       " 'barns',\n",
       " 'vård',\n",
       " 'och',\n",
       " 'uppfostran',\n",
       " 'avsedd',\n",
       " 'anstalt',\n",
       " ',',\n",
       " 'som',\n",
       " 'ej',\n",
       " 'är',\n",
       " 'att',\n",
       " 'hänföra',\n",
       " 'till',\n",
       " 'sjukhus',\n",
       " ',',\n",
       " 'sjukhem',\n",
       " ',',\n",
       " 'anstalt',\n",
       " 'för',\n",
       " 'abnorma',\n",
       " 'eller',\n",
       " 'vanföra',\n",
       " ',',\n",
       " 'skyddshem',\n",
       " ',',\n",
       " 'allmän',\n",
       " 'uppfostringsanstalt',\n",
       " 'eller',\n",
       " 'skolhem',\n",
       " ',',\n",
       " 'vilket',\n",
       " 'tillhör',\n",
       " 'skoldistrikt',\n",
       " '.',\n",
       " '.2',\n",
       " 'mom',\n",
       " '.',\n",
       " 'barnavårdsanstalterna',\n",
       " 'indelas',\n",
       " 'i',\n",
       " 'barnhem',\n",
       " ',',\n",
       " 'barnavårdsanstalter',\n",
       " 'för',\n",
       " 'halvöppen',\n",
       " 'vård',\n",
       " 'och',\n",
       " 'barnkolonier',\n",
       " '.',\n",
       " 'till',\n",
       " 'barnhem',\n",
       " 'är',\n",
       " 'o',\n",
       " 'att',\n",
       " 'hänföra',\n",
       " ':',\n",
       " 'spädbarnshem',\n",
       " ',',\n",
       " 'för',\n",
       " 'vård',\n",
       " 'av',\n",
       " 'späda',\n",
       " 'barn',\n",
       " ',',\n",
       " 'vilka',\n",
       " 'icke',\n",
       " 'åtföljas',\n",
       " 'av',\n",
       " 'sina',\n",
       " 'mödrar',\n",
       " ';',\n",
       " 'mödrahem',\n",
       " '(',\n",
       " 'vårdhem',\n",
       " ',',\n",
       " 'hemskolor',\n",
       " ')',\n",
       " ',',\n",
       " 'för',\n",
       " 'vård',\n",
       " 'av',\n",
       " 'mödrar',\n",
       " 'med',\n",
       " 'späda',\n",
       " 'barn',\n",
       " 'samt',\n",
       " 'väntande',\n",
       " 'mödrar',\n",
       " 'och',\n",
       " 'ensamma',\n",
       " 'spädbarn',\n",
       " ';',\n",
       " 'upptagningshem',\n",
       " ',',\n",
       " 'för',\n",
       " 'tillfällig',\n",
       " 'vård',\n",
       " 'och',\n",
       " 'uppfostran',\n",
       " 'samt',\n",
       " 'observation',\n",
       " 'av',\n",
       " 'barn',\n",
       " ';',\n",
       " 'samt',\n",
       " 'barnhem',\n",
       " 'för',\n",
       " 'varaktig',\n",
       " 'vård',\n",
       " ',',\n",
       " 'för',\n",
       " 'vård',\n",
       " 'och',\n",
       " 'uppfostran',\n",
       " 'av',\n",
       " 'barn',\n",
       " 'under',\n",
       " 'längre',\n",
       " 'tidrymd',\n",
       " '.',\n",
       " 'till',\n",
       " 'barnavårdsanstalter',\n",
       " 'för',\n",
       " 'halvöppen',\n",
       " 'vård',\n",
       " 'är',\n",
       " 'o',\n",
       " 'att',\n",
       " 'hänföra',\n",
       " ':',\n",
       " 'daghem',\n",
       " ',',\n",
       " 'för',\n",
       " 'heldagsvård',\n",
       " 'av',\n",
       " 'barn',\n",
       " ';',\n",
       " 'lekskolor',\n",
       " ',',\n",
       " 'för',\n",
       " 'beredande',\n",
       " 'av',\n",
       " 'vistelse',\n",
       " 'och',\n",
       " 'fostran',\n",
       " 'av',\n",
       " 'barn',\n",
       " 'under',\n",
       " 'begränsad',\n",
       " 'tid',\n",
       " 'av',\n",
       " 'dagen',\n",
       " ';',\n",
       " 'samt',\n",
       " 'eftermiddagshem',\n",
       " ',',\n",
       " 'för',\n",
       " 'beredande',\n",
       " 'åt',\n",
       " 'skolbarn',\n",
       " 'av',\n",
       " 'vistelse',\n",
       " 'under',\n",
       " 'tillsyn',\n",
       " 'efter',\n",
       " 'skolarbetets',\n",
       " 'slut',\n",
       " 'för',\n",
       " 'dagen',\n",
       " '.',\n",
       " 'barnkolonier',\n",
       " 'na',\n",
       " 'hava',\n",
       " 'till',\n",
       " 'syfte',\n",
       " 'att',\n",
       " 'bereda',\n",
       " 'vård',\n",
       " 'och',\n",
       " 'uppfostran',\n",
       " 'av',\n",
       " 'barn',\n",
       " 'under',\n",
       " 'en',\n",
       " 'begränsad',\n",
       " 'del',\n",
       " 'av',\n",
       " 'året',\n",
       " '.',\n",
       " '3',\n",
       " 'mom',\n",
       " '.',\n",
       " 'närmare',\n",
       " 'föreskrifter',\n",
       " 'angående',\n",
       " 'barnavårdsanstalternas',\n",
       " 'verksamhet',\n",
       " 'meddelas',\n",
       " 'av',\n",
       " 'konungen',\n",
       " '.',\n",
       " '40',\n",
       " '§',\n",
       " '.',\n",
       " 'varje',\n",
       " 'landstingsområde',\n",
       " 'skall',\n",
       " 'äga',\n",
       " 'tillgång',\n",
       " 'till',\n",
       " 'erforderligt',\n",
       " 'antal',\n",
       " 'platser',\n",
       " 'å',\n",
       " 'för',\n",
       " 'områdets',\n",
       " 'gemensamma',\n",
       " 'behov',\n",
       " 'avsedda',\n",
       " ',',\n",
       " 'ändamålsenligt',\n",
       " 'förlagda',\n",
       " 'och',\n",
       " 'än*',\n",
       " '12',\n",
       " 'ordnade',\n",
       " 'spädbarnshem',\n",
       " ',',\n",
       " 'mödrahem',\n",
       " ',',\n",
       " 'upptagningshem',\n",
       " 'och',\n",
       " 'barnhem',\n",
       " 'för',\n",
       " 'varaktig',\n",
       " 'vård',\n",
       " '.',\n",
       " 'för',\n",
       " 'varje',\n",
       " 'landstingsområde',\n",
       " 'skall',\n",
       " 'genom',\n",
       " ',',\n",
       " 'landstingets',\n",
       " 'försorg',\n",
       " 'upprättas',\n",
       " 'en',\n",
       " 'plan',\n",
       " 'för',\n",
       " 'barnhemsvårdens',\n",
       " 'ordnande',\n",
       " ',',\n",
       " 'vilken',\n",
       " 'plan',\n",
       " 'skall',\n",
       " 'underställas',\n",
       " 'socialstyrelsen',\n",
       " 'för',\n",
       " 'godkännande',\n",
       " '.',\n",
       " '1',\n",
       " 'den',\n",
       " 'mån',\n",
       " 'annan',\n",
       " 'icke',\n",
       " 'drager',\n",
       " 'försorg',\n",
       " 'här',\n",
       " ',',\n",
       " 'om',\n",
       " ',',\n",
       " 'sk',\n",
       " ',',\n",
       " 'all',\n",
       " 'det',\n",
       " 'åligga',\n",
       " 'landsting',\n",
       " 'att',\n",
       " 'till',\n",
       " 'erforderligt',\n",
       " 'antal',\n",
       " 'anordna',\n",
       " 'och',\n",
       " 'driva',\n",
       " 'barnhem',\n",
       " ',',\n",
       " 'som',\n",
       " 'i',\n",
       " 'första',\n",
       " 'stycket',\n",
       " 'sägs',\n",
       " '.',\n",
       " 'landstinget',\n",
       " 'vare',\n",
       " 'ock',\n",
       " 'skyldigt',\n",
       " 'att',\n",
       " ',',\n",
       " 'där',\n",
       " 'erforderliga',\n",
       " 'medel',\n",
       " 'icke',\n",
       " 'annorledes',\n",
       " 'tillhandahållas',\n",
       " ',',\n",
       " 'bestrida',\n",
       " 'kostnaderna',\n",
       " 'för',\n",
       " 'anordnandet',\n",
       " 'och',\n",
       " 'driften',\n",
       " 'av',\n",
       " 'annan',\n",
       " 'tillhöriga',\n",
       " 'barnhem',\n",
       " ',',\n",
       " 'vilka',\n",
       " 'ingå',\n",
       " 'som',\n",
       " 'led',\n",
       " 'i',\n",
       " 'ovannämnda',\n",
       " 'plan',\n",
       " ',',\n",
       " 'i',\n",
       " 'den',\n",
       " 'mån',\n",
       " 'deras',\n",
       " 'vårdplatser',\n",
       " 'äro',\n",
       " 'avsedda',\n",
       " 'för',\n",
       " 'landstingsområdets',\n",
       " 'gemensamma',\n",
       " 'behov',\n",
       " '.',\n",
       " 'vad',\n",
       " 'i',\n",
       " 'denna',\n",
       " 'paragraf',\n",
       " 'finnes',\n",
       " 'föreskrivet',\n",
       " 'angående',\n",
       " 'landsting',\n",
       " 'och',\n",
       " 'landstingsområde',\n",
       " 'skall',\n",
       " ',',\n",
       " 'såvitt',\n",
       " ...]"
      ]
     },
     "execution_count": 363,
     "metadata": {},
     "output_type": "execute_result"
    }
   ],
   "source": [
    "nl_text[2500:4000]"
   ]
  }
 ],
 "metadata": {
  "kernelspec": {
   "display_name": "Python 3",
   "language": "python",
   "name": "python3"
  },
  "language_info": {
   "codemirror_mode": {
    "name": "ipython",
    "version": 3
   },
   "file_extension": ".py",
   "mimetype": "text/x-python",
   "name": "python",
   "nbconvert_exporter": "python",
   "pygments_lexer": "ipython3",
   "version": "3.5.4"
  }
 },
 "nbformat": 4,
 "nbformat_minor": 2
}
