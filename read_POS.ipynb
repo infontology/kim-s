{
 "cells": [
  {
   "cell_type": "code",
   "execution_count": 185,
   "metadata": {
    "collapsed": true
   },
   "outputs": [],
   "source": [
    "import pickle"
   ]
  },
  {
   "cell_type": "code",
   "execution_count": 186,
   "metadata": {},
   "outputs": [],
   "source": [
    "x= np.zeros((1,3))\n",
    "with open('moderntdv_1000.xml') as f:\n",
    "    for line in f:\n",
    "        if line.find('<w ')>-1:\n",
    "            tags = parse(line)\n",
    "            x = np.vstack([x,tags])\n",
    "        \n",
    "with open('pos_tagged.pickle', 'wb') as f:\n",
    "    pickle.dump(x,f)\n",
    " #       str.find(str, beg=0, end=len(string))"
   ]
  },
  {
   "cell_type": "code",
   "execution_count": 184,
   "metadata": {},
   "outputs": [
    {
     "data": {
      "text/plain": [
       "array([['0.0', '0.0', '0.0'],\n",
       "       ['(', 'PAD', '|'],\n",
       "       ['Jfr', 'VB', '|jämföra..1|'],\n",
       "       ..., \n",
       "       ['arbetet', 'NN', '|arbete..1|arbete..2|'],\n",
       "       ['själv', 'JJ', '|själv..1|själv..2|själv..3|'],\n",
       "       ['.', 'MAD', '|']],\n",
       "      dtype='<U104')"
      ]
     },
     "execution_count": 184,
     "metadata": {},
     "output_type": "execute_result"
    }
   ],
   "source": [
    "x"
   ]
  },
  {
   "cell_type": "code",
   "execution_count": 3,
   "metadata": {},
   "outputs": [
    {
     "name": "stdout",
     "output_type": "stream",
     "text": [
      "<w posset=\"|PAD|\" pos=\"PAD\" msd=\"PAD\" lemma=\"|\" lex=\"|\" saldo=\"|\" prefix=\"|\" suffix=\"|\" ref=\"1\" dephead=\"2\" deprel=\"IR\">(</w>\n",
      "\n"
     ]
    }
   ],
   "source": [
    "print(line)"
   ]
  },
  {
   "cell_type": "code",
   "execution_count": 139,
   "metadata": {
    "collapsed": true
   },
   "outputs": [],
   "source": [
    "import re\n",
    "import numpy as np"
   ]
  },
  {
   "cell_type": "code",
   "execution_count": 158,
   "metadata": {},
   "outputs": [],
   "source": [
    "def parse(line):\n",
    "    word = re.search('(?<=>)(.*)(?=<)', line).group(0)\n",
    "    pos = re.search('(?<=pos=)(.*\\s)(?=m)', line).group(0).strip(' ').strip('\"')\n",
    "    saldo = re.search('(?<=saldo=)(.*\\s)(?=p)', line).group(0).strip(' ').strip('\"')\n",
    "    #print (word, '\\n', pos, '\\n', saldo, '\\n')\n",
    "    return np.array([word,pos,saldo])"
   ]
  },
  {
   "cell_type": "code",
   "execution_count": 176,
   "metadata": {},
   "outputs": [
    {
     "data": {
      "text/plain": [
       "array(['groda', 'PAD', '|'],\n",
       "      dtype='<U5')"
      ]
     },
     "execution_count": 176,
     "metadata": {},
     "output_type": "execute_result"
    }
   ],
   "source": [
    "#voc = np.zeros((1,3))\n",
    "#print (np.shape(voc))\n",
    "\n",
    "line = '<w posset=\"|PAD|\" pos=\"PAD\" msd=\"PAD\" lemma=\"|\" lex=\"|\" saldo=\"|\" prefix=\"|\" suffix=\"|\" ref=\"1\" dephead=\"2\" deprel=\"IR\">groda</w>'\n",
    "\n",
    "line2 = 'hej då'\n",
    "\n",
    "x = parse(line)\n",
    "y = parse(line)\n",
    "\n",
    "x"
   ]
  },
  {
   "cell_type": "code",
   "execution_count": 177,
   "metadata": {},
   "outputs": [],
   "source": [
    "voc=np.vstack([x,y])"
   ]
  },
  {
   "cell_type": "code",
   "execution_count": 179,
   "metadata": {},
   "outputs": [
    {
     "data": {
      "text/plain": [
       "array(['groda', 'PAD', '|'],\n",
       "      dtype='<U5')"
      ]
     },
     "execution_count": 179,
     "metadata": {},
     "output_type": "execute_result"
    }
   ],
   "source": [
    "voc[0]"
   ]
  },
  {
   "cell_type": "code",
   "execution_count": null,
   "metadata": {
    "collapsed": true
   },
   "outputs": [],
   "source": []
  }
 ],
 "metadata": {
  "kernelspec": {
   "display_name": "Python 3",
   "language": "python",
   "name": "python3"
  },
  "language_info": {
   "codemirror_mode": {
    "name": "ipython",
    "version": 3
   },
   "file_extension": ".py",
   "mimetype": "text/x-python",
   "name": "python",
   "nbconvert_exporter": "python",
   "pygments_lexer": "ipython3",
   "version": "3.6.1"
  }
 },
 "nbformat": 4,
 "nbformat_minor": 2
}
