{
 "cells": [
  {
   "cell_type": "markdown",
   "metadata": {},
   "source": [
    "## Parsa ordklasser\n",
    "Den här anteckningsboken tar rader med ord som har taggats på olika sätt och kollar vilka ord som tillhör flera ordklasser.\n",
    "\n",
    "Raderna ser typiskt ut så här:\n",
    "\n",
    "```<w posset=\"|VB|\" pos=\"VB\" msd=\"VB.PRS.AKT\" lemma=\"|framgå|\" lex=\"|framgå..vb.1|\" saldo=\"|framgå..1|\" prefix=\"|fram..ab.1|\" suffix=\"|gå..vb.1|\" ref=\"12\" dephead=\"10\" deprel=\"ET\">framgår</w>```\n",
    "\n",
    "Det jag är ute efter är själva ordet, ordklassen (och saldo-referensen).\n",
    "\n",
    "Filen är egentligen en xml-fil, men eftersom alla orden representeras som ett ord per rad fuskar jag och läser rad för rad, och tar bort alla som inte börjar på \"<w\", som är tecknet på att det är ett ord (och inte en mening etc)."
   ]
  },
  {
   "cell_type": "code",
   "execution_count": 315,
   "metadata": {
    "collapsed": true
   },
   "outputs": [],
   "source": [
    "import pickle"
   ]
  },
  {
   "cell_type": "code",
   "execution_count": 139,
   "metadata": {
    "collapsed": true
   },
   "outputs": [],
   "source": [
    "import re\n",
    "import numpy as np"
   ]
  },
  {
   "cell_type": "code",
   "execution_count": 158,
   "metadata": {},
   "outputs": [],
   "source": [
    "def parse(line):\n",
    "    word = re.search('(?<=>)(.*)(?=<)', line).group(0) #Hitta det som är mellan ett > och ett <\n",
    "    pos = re.search('(?<=pos=)(.*\\s)(?=m)', line).group(0).strip(' ').strip('\"') #Hitta det som är mellan\"pos\" och följande \"m\"\n",
    "    saldo = re.search('(?<=saldo=)(.*\\s)(?=p)', line).group(0).strip(' ').strip('\"')\n",
    "    #print (word, '\\n', pos, '\\n', saldo, '\\n')\n",
    "    return np.array([word,pos,saldo]) "
   ]
  },
  {
   "cell_type": "code",
   "execution_count": 343,
   "metadata": {},
   "outputs": [],
   "source": [
    "x= np.empty((1,3)) \n",
    "with open('moderntdv_1000.xml') as f:\n",
    "    for line in f:\n",
    "        if line.find('<w ')>-1:\n",
    "            tags = parse(line)\n",
    "            x = np.vstack([x,tags])\n",
    "        \n",
    "with open('pos_tagged.pickle', 'wb') as f:\n",
    "    pickle.dump(x,f)\n",
    " #       str.find(str, beg=0, end=len(string))"
   ]
  },
  {
   "cell_type": "code",
   "execution_count": 344,
   "metadata": {},
   "outputs": [
    {
     "data": {
      "text/plain": [
       "array([['0.0', '0.0', '0.0'],\n",
       "       ['(', 'PAD', '|'],\n",
       "       ['Jfr', 'VB', '|jämföra..1|'],\n",
       "       ..., \n",
       "       ['arbetet', 'NN', '|arbete..1|arbete..2|'],\n",
       "       ['själv', 'JJ', '|själv..1|själv..2|själv..3|'],\n",
       "       ['.', 'MAD', '|']],\n",
       "      dtype='<U104')"
      ]
     },
     "execution_count": 344,
     "metadata": {},
     "output_type": "execute_result"
    }
   ],
   "source": [
    "x"
   ]
  },
  {
   "cell_type": "code",
   "execution_count": 345,
   "metadata": {},
   "outputs": [
    {
     "name": "stdout",
     "output_type": "stream",
     "text": [
      "om\n",
      "['PP' 'SN']\n",
      "------------------------------------------------\n",
      "\n",
      "som\n",
      "['HP' 'KN']\n",
      "------------------------------------------------\n",
      "\n",
      "den\n",
      "['DT' 'PN']\n",
      "------------------------------------------------\n",
      "\n",
      "d\n",
      "['DT' 'NN']\n",
      "------------------------------------------------\n",
      "\n",
      "21\n",
      "['DT' 'NN']\n",
      "------------------------------------------------\n",
      "\n",
      "m\n",
      "['NN\" msd=\"NN.AN\" lemma=\"|m|m' 'NN\" msd=\"NN.AN\" lemma=\"|m|m m:25|m']\n",
      "------------------------------------------------\n",
      "\n",
      ".\n",
      "['NN\" msd=\"NN.AN\" lemma=\"|m|m' 'NN\" msd=\"NN.AN\" lemma=\"|m|m m:25|m']\n",
      "------------------------------------------------\n",
      "\n",
      "7\n",
      "['DT' 'NN']\n",
      "------------------------------------------------\n",
      "\n",
      "till\n",
      "['PL' 'PP']\n",
      "------------------------------------------------\n",
      "\n",
      "L.W\n",
      "['PL' 'PP']\n",
      "------------------------------------------------\n",
      "\n",
      "D\n",
      "['NN' 'PM']\n",
      "------------------------------------------------\n",
      "\n",
      "för\n",
      "['AB' 'PP']\n",
      "------------------------------------------------\n",
      "\n",
      "208\n",
      "['AB' 'PP']\n",
      "------------------------------------------------\n",
      "\n",
      "000\n",
      "['AB' 'PP']\n",
      "------------------------------------------------\n",
      "\n",
      "stadsägan\n",
      "['NN' 'PM']\n",
      "------------------------------------------------\n",
      "\n",
      ",\n",
      "['NN' 'PM']\n",
      "------------------------------------------------\n",
      "\n",
      "404,7\n",
      "['PP' 'SN']\n",
      "------------------------------------------------\n",
      "\n",
      "7027\n",
      "['NN' 'PM']\n",
      "------------------------------------------------\n",
      "\n",
      "det\n",
      "['DT' 'PN']\n",
      "------------------------------------------------\n",
      "\n",
      "5,40\n",
      "['NN\" msd=\"NN.AN\" lemma=\"|m|m' 'NN\" msd=\"NN.AN\" lemma=\"|m|m m:25|m']\n",
      "------------------------------------------------\n",
      "\n",
      "andra\n",
      "['JJ' 'RO']\n",
      "------------------------------------------------\n",
      "\n",
      "att\n",
      "['IE' 'SN']\n",
      "------------------------------------------------\n",
      "\n",
      "36\n",
      "['AB' 'PP']\n",
      "------------------------------------------------\n",
      "\n",
      "planerat\n",
      "['PC' 'VB']\n",
      "------------------------------------------------\n",
      "\n",
      "bestritt\n",
      "['JJ' 'VB']\n",
      "------------------------------------------------\n",
      "\n",
      "vitsordat\n",
      "['NN' 'PC']\n",
      "------------------------------------------------\n",
      "\n",
      "8\n",
      "['PP' 'SN']\n",
      "------------------------------------------------\n",
      "\n"
     ]
    }
   ],
   "source": [
    "wordlist = []\n",
    "while len(x)>1:\n",
    "    x=x[1:] #Ta bort första raden\n",
    "    #x[0]\n",
    "\n",
    "    if x[0][0].isalpha():\n",
    "        #print(x[0][0])\n",
    "        indexar = np.array(np.where(x[:,0] == x[0][0])) #Radnumret för alla förekomster av ordet i texten\n",
    "\n",
    "        ordklasser = x[indexar] #Alla rader där ordet förekommer, som np.array\n",
    "\n",
    "    olika = np.unique(ordklasser[0][:,1]) #Listan över unika ordklasser för det ordet\n",
    "\n",
    "    \n",
    "    if len (olika)>1 and not x[0][0] in wordlist:\n",
    "        wordlist.append(x[0][0])\n",
    "        print (x[0][0])\n",
    "        print (olika)\n",
    "        #print (indexar)\n",
    "        print ('------------------------------------------------\\n')\n",
    "        np.delete(x,indexar[1:],axis=0)"
   ]
  },
  {
   "cell_type": "code",
   "execution_count": 346,
   "metadata": {},
   "outputs": [
    {
     "data": {
      "text/plain": [
       "['om',\n",
       " 'som',\n",
       " 'den',\n",
       " 'd',\n",
       " '21',\n",
       " 'm',\n",
       " '.',\n",
       " '7',\n",
       " 'till',\n",
       " 'L.W',\n",
       " 'D',\n",
       " 'för',\n",
       " '208',\n",
       " '000',\n",
       " 'stadsägan',\n",
       " ',',\n",
       " '404,7',\n",
       " '7027',\n",
       " 'det',\n",
       " '5,40',\n",
       " 'andra',\n",
       " 'att',\n",
       " '36',\n",
       " 'planerat',\n",
       " 'bestritt',\n",
       " 'vitsordat',\n",
       " '8']"
      ]
     },
     "execution_count": 346,
     "metadata": {},
     "output_type": "execute_result"
    }
   ],
   "source": [
    "wordlist"
   ]
  }
 ],
 "metadata": {
  "kernelspec": {
   "display_name": "Python 3",
   "language": "python",
   "name": "python3"
  },
  "language_info": {
   "codemirror_mode": {
    "name": "ipython",
    "version": 3
   },
   "file_extension": ".py",
   "mimetype": "text/x-python",
   "name": "python",
   "nbconvert_exporter": "python",
   "pygments_lexer": "ipython3",
   "version": "3.6.1"
  }
 },
 "nbformat": 4,
 "nbformat_minor": 2
}
