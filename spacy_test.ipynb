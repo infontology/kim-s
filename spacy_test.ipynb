{
  "nbformat": 4,
  "nbformat_minor": 0,
  "metadata": {
    "colab": {
      "name": "spacy_test.ipynb",
      "version": "0.3.2",
      "provenance": [],
      "collapsed_sections": []
    },
    "kernelspec": {
      "name": "python3",
      "display_name": "Python 3"
    }
  },
  "cells": [
    {
      "cell_type": "markdown",
      "metadata": {
        "id": "view-in-github",
        "colab_type": "text"
      },
      "source": [
        "[View in Colaboratory](https://colab.research.google.com/github/infontology/kim-s/blob/master/spacy_test.ipynb)"
      ]
    },
    {
      "metadata": {
        "id": "xCNQJnsc0Q2i",
        "colab_type": "code",
        "colab": {
          "base_uri": "https://localhost:8080/",
          "height": 2442
        },
        "outputId": "d09c7c94-1f10-424e-d6fc-eb33762c7586"
      },
      "cell_type": "code",
      "source": [
        "!pip install spacy"
      ],
      "execution_count": 1,
      "outputs": [
        {
          "output_type": "stream",
          "text": [
            "Collecting spacy\n",
            "\u001b[?25l  Downloading https://files.pythonhosted.org/packages/3c/31/e60f88751e48851b002f78a35221d12300783d5a43d4ef12fbf10cca96c3/spacy-2.0.11.tar.gz (17.6MB)\n",
            "\u001b[K    100% |████████████████████████████████| 17.6MB 1.6MB/s \n",
            "\u001b[?25hRequirement already satisfied: numpy>=1.7 in /usr/local/lib/python3.6/dist-packages (from spacy) (1.14.3)\n",
            "Collecting murmurhash<0.29,>=0.28 (from spacy)\n",
            "  Downloading https://files.pythonhosted.org/packages/5e/31/c8c1ecafa44db30579c8c457ac7a0f819e8b1dbc3e58308394fff5ff9ba7/murmurhash-0.28.0.tar.gz\n",
            "Collecting cymem<1.32,>=1.30 (from spacy)\n",
            "  Downloading https://files.pythonhosted.org/packages/f8/9e/273fbea507de99166c11cd0cb3fde1ac01b5bc724d9a407a2f927ede91a1/cymem-1.31.2.tar.gz\n",
            "Collecting preshed<2.0.0,>=1.0.0 (from spacy)\n",
            "\u001b[?25l  Downloading https://files.pythonhosted.org/packages/1b/ac/7c17b1fd54b60972785b646d37da2826311cca70842c011c4ff84fbe95e0/preshed-1.0.0.tar.gz (89kB)\n",
            "\u001b[K    100% |████████████████████████████████| 92kB 21.9MB/s \n",
            "\u001b[?25hCollecting thinc<6.11.0,>=6.10.1 (from spacy)\n",
            "\u001b[?25l  Downloading https://files.pythonhosted.org/packages/55/fd/e9f36081e6f53699943381858848f3b4d759e0dd03c43b98807dde34c252/thinc-6.10.2.tar.gz (1.2MB)\n",
            "\u001b[K    100% |████████████████████████████████| 1.2MB 17.1MB/s \n",
            "\u001b[?25hCollecting plac<1.0.0,>=0.9.6 (from spacy)\n",
            "  Downloading https://files.pythonhosted.org/packages/9e/9b/62c60d2f5bc135d2aa1d8c8a86aaf84edb719a59c7f11a4316259e61a298/plac-0.9.6-py2.py3-none-any.whl\n",
            "Collecting pathlib (from spacy)\n",
            "\u001b[?25l  Downloading https://files.pythonhosted.org/packages/ac/aa/9b065a76b9af472437a0059f77e8f962fe350438b927cb80184c32f075eb/pathlib-1.0.1.tar.gz (49kB)\n",
            "\u001b[K    100% |████████████████████████████████| 51kB 15.4MB/s \n",
            "\u001b[?25hCollecting ujson>=1.35 (from spacy)\n",
            "\u001b[?25l  Downloading https://files.pythonhosted.org/packages/16/c4/79f3409bc710559015464e5f49b9879430d8f87498ecdc335899732e5377/ujson-1.35.tar.gz (192kB)\n",
            "\u001b[K    100% |████████████████████████████████| 194kB 19.6MB/s \n",
            "\u001b[?25hCollecting dill<0.3,>=0.2 (from spacy)\n",
            "\u001b[?25l  Downloading https://files.pythonhosted.org/packages/91/a0/19d4d31dee064fc553ae01263b5c55e7fb93daff03a69debbedee647c5a0/dill-0.2.7.1.tar.gz (64kB)\n",
            "\u001b[K    100% |████████████████████████████████| 71kB 19.5MB/s \n",
            "\u001b[?25hCollecting regex==2017.4.5 (from spacy)\n",
            "\u001b[?25l  Downloading https://files.pythonhosted.org/packages/36/62/c0c0d762ffd4ffaf39f372eb8561b8d491a11ace5a7884610424a8b40f95/regex-2017.04.05.tar.gz (601kB)\n",
            "\u001b[K    100% |████████████████████████████████| 604kB 17.6MB/s \n",
            "\u001b[?25hCollecting wrapt (from thinc<6.11.0,>=6.10.1->spacy)\n",
            "  Downloading https://files.pythonhosted.org/packages/a0/47/66897906448185fcb77fc3c2b1bc20ed0ecca81a0f2f88eda3fc5a34fc3d/wrapt-1.10.11.tar.gz\n",
            "Collecting tqdm<5.0.0,>=4.10.0 (from thinc<6.11.0,>=6.10.1->spacy)\n",
            "\u001b[?25l  Downloading https://files.pythonhosted.org/packages/93/24/6ab1df969db228aed36a648a8959d1027099ce45fad67532b9673d533318/tqdm-4.23.4-py2.py3-none-any.whl (42kB)\n",
            "\u001b[K    100% |████████████████████████████████| 51kB 18.4MB/s \n",
            "\u001b[?25hCollecting cytoolz<0.9,>=0.8 (from thinc<6.11.0,>=6.10.1->spacy)\n",
            "\u001b[?25l  Downloading https://files.pythonhosted.org/packages/0f/e6/ccc124714dcc1bd511e64ddafb4d5d20ada2533b92e3173a4cf09e0d0831/cytoolz-0.8.2.tar.gz (386kB)\n",
            "\u001b[K    100% |████████████████████████████████| 389kB 23.1MB/s \n",
            "\u001b[?25hRequirement already satisfied: six<2.0.0,>=1.10.0 in /usr/local/lib/python3.6/dist-packages (from thinc<6.11.0,>=6.10.1->spacy) (1.11.0)\n",
            "Requirement already satisfied: termcolor in /usr/local/lib/python3.6/dist-packages (from thinc<6.11.0,>=6.10.1->spacy) (1.1.0)\n",
            "Collecting msgpack-python (from thinc<6.11.0,>=6.10.1->spacy)\n",
            "\u001b[?25l  Downloading https://files.pythonhosted.org/packages/8a/20/6eca772d1a5830336f84aca1d8198e5a3f4715cd1c7fc36d3cc7f7185091/msgpack-python-0.5.6.tar.gz (138kB)\n",
            "\u001b[K    100% |████████████████████████████████| 143kB 24.4MB/s \n",
            "\u001b[?25hCollecting msgpack-numpy==0.4.1 (from thinc<6.11.0,>=6.10.1->spacy)\n",
            "  Downloading https://files.pythonhosted.org/packages/2e/43/393e30e2768b0357541ac95891f96b80ccc4d517e0dd2fa3042fc8926538/msgpack_numpy-0.4.1-py2.py3-none-any.whl\n",
            "Requirement already satisfied: toolz>=0.8.0 in /usr/local/lib/python3.6/dist-packages (from cytoolz<0.9,>=0.8->thinc<6.11.0,>=6.10.1->spacy) (0.9.0)\n",
            "Building wheels for collected packages: spacy, murmurhash, cymem, preshed, thinc, pathlib, ujson, dill, regex, wrapt, cytoolz, msgpack-python\n",
            "  Running setup.py bdist_wheel for spacy ... \u001b[?25l-\b \b\\\b \b|\b \b/\b \b-\b \b\\\b \b|"
          ],
          "name": "stdout"
        },
        {
          "output_type": "stream",
          "text": [
            "\b \b/\b \b-\b \b\\\b \b|\b \b/\b \b-\b \b\\\b \b|\b \b/\b \b-\b \b\\\b \b|\b \b/\b \b-\b \b\\\b \b|\b \b/\b \b-\b \b\\\b \b|\b \b/\b \b-\b \b\\\b \b|\b \b/\b \b-\b \b\\\b \b|\b \b/\b \b-\b \b\\\b \b|\b \b/\b \b-\b \b\\\b \b|\b \b/\b \b-\b \b\\\b \b|\b \b/\b \b-\b \b\\\b \b|\b \b/\b \b-\b \b\\\b \b|\b \b/\b \b-\b \b\\\b \b|\b \b/\b \b-\b \b\\\b \b|\b \b/\b \b-\b \b\\\b \b|\b \b/\b \b-\b \b\\\b \b|\b \b/\b \b-\b \b\\\b \b|\b \b/\b \b-\b \b\\\b \b|\b \b/\b \bdone\n",
            "\u001b[?25h  Stored in directory: /content/.cache/pip/wheels/fb/00/28/75c85d5135e7d9a100639137d1847d41e914ed16c962d467e4\n",
            "  Running setup.py bdist_wheel for murmurhash ... \u001b[?25l-\b \b\\\b \b|\b \b/\b \bdone\n",
            "\u001b[?25h  Stored in directory: /content/.cache/pip/wheels/b8/94/a4/f69f8664cdc1098603df44771b7fec5fd1b3d8364cdd83f512\n",
            "  Running setup.py bdist_wheel for cymem ... \u001b[?25l-\b \b\\\b \bdone\n",
            "\u001b[?25h  Stored in directory: /content/.cache/pip/wheels/55/8d/4a/f6328252aa2aaec0b1cb906fd96a1566d77f0f67701071ad13\n",
            "  Running setup.py bdist_wheel for preshed ... \u001b[?25l-\b \b\\\b \b|\b \b/\b \b-\b \b\\\b \b|\b \bdone\n",
            "\u001b[?25h  Stored in directory: /content/.cache/pip/wheels/8f/85/06/2d132fb649a6bbcab22487e4147880a55b0dd0f4b18fdfd6b5\n",
            "  Running setup.py bdist_wheel for thinc ... \u001b[?25l-\b \b\\\b \b|\b \b/\b \b-\b \b\\\b \b|\b \b/\b \b-\b \b\\\b \b|\b \b/\b \b-\b \b\\\b \b|\b \b/\b \b-\b \b\\\b \b|\b \b/\b \b-\b \b\\\b \b|\b \b/\b \b-\b \b\\\b \b|\b \bdone\n",
            "\u001b[?25h  Stored in directory: /content/.cache/pip/wheels/d8/5c/3e/9acf5d9974fb1c9e7b467563ea5429c9325f67306e93147961\n",
            "  Running setup.py bdist_wheel for pathlib ... \u001b[?25l-\b \bdone\n",
            "\u001b[?25h  Stored in directory: /content/.cache/pip/wheels/f9/b2/4a/68efdfe5093638a9918bd1bb734af625526e849487200aa171\n",
            "  Running setup.py bdist_wheel for ujson ... \u001b[?25l-\b \b\\\b \b|\b \b/\b \b-\b \b\\\b \bdone\n",
            "\u001b[?25h  Stored in directory: /content/.cache/pip/wheels/28/77/e4/0311145b9c2e2f01470e744855131f9e34d6919687550f87d1\n",
            "  Running setup.py bdist_wheel for dill ... \u001b[?25l-\b \bdone\n",
            "\u001b[?25h  Stored in directory: /content/.cache/pip/wheels/99/c4/ed/1b64d2d5809e60d5a3685530432f6159d6a9959739facb61f2\n",
            "  Running setup.py bdist_wheel for regex ... \u001b[?25l-\b \b\\\b \b|\b \b/\b \b-\b \b\\\b \b|\b \bdone\n",
            "\u001b[?25h  Stored in directory: /content/.cache/pip/wheels/75/07/38/3c16b529d50cb4e0cd3dbc7b75cece8a09c132692c74450b01\n",
            "  Running setup.py bdist_wheel for wrapt ... \u001b[?25l-\b \b\\\b \bdone\n",
            "\u001b[?25h  Stored in directory: /content/.cache/pip/wheels/48/5d/04/22361a593e70d23b1f7746d932802efe1f0e523376a74f321e\n",
            "  Running setup.py bdist_wheel for cytoolz ... \u001b[?25l-\b \b\\"
          ],
          "name": "stdout"
        },
        {
          "output_type": "stream",
          "text": [
            "\b \b|\b \b/\b \b-\b \b\\\b \b|\b \b/\b \bdone\n",
            "\u001b[?25h  Stored in directory: /content/.cache/pip/wheels/f8/b1/86/c92e4d36b690208fff8471711b85eaa6bc6d19860a86199a09\n",
            "  Running setup.py bdist_wheel for msgpack-python ... \u001b[?25l-\b \b\\\b \b|\b \b/\b \bdone\n",
            "\u001b[?25h  Stored in directory: /content/.cache/pip/wheels/d5/de/86/7fa56fda12511be47ea0808f3502bc879df4e63ab168ec0406\n",
            "Successfully built spacy murmurhash cymem preshed thinc pathlib ujson dill regex wrapt cytoolz msgpack-python\n",
            "Installing collected packages: murmurhash, cymem, preshed, wrapt, tqdm, cytoolz, plac, dill, pathlib, msgpack-python, msgpack-numpy, thinc, ujson, regex, spacy\n",
            "Successfully installed cymem-1.31.2 cytoolz-0.8.2 dill-0.2.7.1 msgpack-numpy-0.4.1 msgpack-python-0.5.6 murmurhash-0.28.0 pathlib-1.0.1 plac-0.9.6 preshed-1.0.0 regex-2017.4.5 spacy-2.0.11 thinc-6.10.2 tqdm-4.23.4 ujson-1.35 wrapt-1.10.11\n"
          ],
          "name": "stdout"
        }
      ]
    },
    {
      "metadata": {
        "id": "PERpKePy0RzE",
        "colab_type": "code",
        "colab": {}
      },
      "cell_type": "code",
      "source": [
        "import spacy"
      ],
      "execution_count": 0,
      "outputs": []
    },
    {
      "metadata": {
        "id": "GuZ1J-IG3D79",
        "colab_type": "code",
        "colab": {
          "base_uri": "https://localhost:8080/",
          "height": 238
        },
        "outputId": "527c9a52-d9b1-4f0d-9cf3-434b228558dd"
      },
      "cell_type": "code",
      "source": [
        "!python -m spacy download en_core_web_lg"
      ],
      "execution_count": 26,
      "outputs": [
        {
          "output_type": "stream",
          "text": [
            "Collecting https://github.com/explosion/spacy-models/releases/download/en_core_web_lg-2.0.0/en_core_web_lg-2.0.0.tar.gz\n",
            "\u001b[?25l  Downloading https://github.com/explosion/spacy-models/releases/download/en_core_web_lg-2.0.0/en_core_web_lg-2.0.0.tar.gz (852.3MB)\n",
            "\u001b[K    80% |█████████████████████████▉      | 686.7MB 45.4MB/s eta 0:00:04"
          ],
          "name": "stdout"
        },
        {
          "output_type": "stream",
          "text": [
            "\u001b[K    100% |████████████████████████████████| 852.3MB 51.6MB/s \n",
            "\u001b[?25hInstalling collected packages: en-core-web-lg\n",
            "  Running setup.py install for en-core-web-lg ... \u001b[?25l-\b \b\\\b \b|\b \b/\b \b-\b \b\\\b \b|\b \b/\b \b-\b \b\\\b \b|\b \b/\b \b-\b \bdone\n",
            "\u001b[?25hSuccessfully installed en-core-web-lg-2.0.0\n",
            "\n",
            "\u001b[93m    Linking successful\u001b[0m\n",
            "    /usr/local/lib/python3.6/dist-packages/en_core_web_lg -->\n",
            "    /usr/local/lib/python3.6/dist-packages/spacy/data/en_core_web_lg\n",
            "\n",
            "    You can now load the model via spacy.load('en_core_web_lg')\n",
            "\n"
          ],
          "name": "stdout"
        }
      ]
    },
    {
      "metadata": {
        "id": "zK1Trd4a0M7R",
        "colab_type": "code",
        "colab": {
          "base_uri": "https://localhost:8080/",
          "height": 221
        },
        "outputId": "36897c80-5a99-4e7f-919c-d8e46c5d073f"
      },
      "cell_type": "code",
      "source": [
        "\n",
        "nlp = spacy.load('en_core_web_lg')  # make sure to use larger model!\n",
        "tokens = nlp(u'car cat banana house')\n",
        "\n",
        "for token1 in tokens:\n",
        "    for token2 in tokens:\n",
        "      if token1 != token2:\n",
        "        print(token1.text, token2.text, token1.similarity(token2))"
      ],
      "execution_count": 27,
      "outputs": [
        {
          "output_type": "stream",
          "text": [
            "car cat 0.31907532\n",
            "car banana 0.16172662\n",
            "car house 0.44197133\n",
            "cat car 0.31907532\n",
            "cat banana 0.28154364\n",
            "cat house 0.3593911\n",
            "banana car 0.16172662\n",
            "banana cat 0.28154364\n",
            "banana house 0.21589014\n",
            "house car 0.44197133\n",
            "house cat 0.3593911\n",
            "house banana 0.21589014\n"
          ],
          "name": "stdout"
        }
      ]
    },
    {
      "metadata": {
        "id": "Fryc9Bgf2tht",
        "colab_type": "code",
        "colab": {
          "base_uri": "https://localhost:8080/",
          "height": 34
        },
        "outputId": "6e192d18-6424-4bb2-814d-2e01df5bb4c4"
      },
      "cell_type": "code",
      "source": [
        "type(nlp)"
      ],
      "execution_count": 28,
      "outputs": [
        {
          "output_type": "execute_result",
          "data": {
            "text/plain": [
              "spacy.lang.en.English"
            ]
          },
          "metadata": {
            "tags": []
          },
          "execution_count": 28
        }
      ]
    },
    {
      "metadata": {
        "id": "oeo3rRg34BSM",
        "colab_type": "code",
        "colab": {}
      },
      "cell_type": "code",
      "source": [
        "doc = nlp(u'This is a sentence.')"
      ],
      "execution_count": 0,
      "outputs": []
    },
    {
      "metadata": {
        "id": "8FzM7XKk4kxH",
        "colab_type": "code",
        "colab": {
          "base_uri": "https://localhost:8080/",
          "height": 34
        },
        "outputId": "c2f6c02a-f894-4e3a-a3c1-117ca0148b78"
      },
      "cell_type": "code",
      "source": [
        "doc"
      ],
      "execution_count": 30,
      "outputs": [
        {
          "output_type": "execute_result",
          "data": {
            "text/plain": [
              "This is a sentence."
            ]
          },
          "metadata": {
            "tags": []
          },
          "execution_count": 30
        }
      ]
    },
    {
      "metadata": {
        "id": "iKip--JsT6s9",
        "colab_type": "code",
        "colab": {}
      },
      "cell_type": "code",
      "source": [
        "doc = nlp(u'The port is the main point of entry for aid for people in rebel-held areas and agencies have warned of a humanitarian catastrophe if it is attacked. About eight million people in the war-torn country are at risk of starvation. Bombing started after Iranian-backed Houthi rebels ignored a deadline set by the government to withdraw by midnight (21:00 GMT on Tuesday).')"
      ],
      "execution_count": 0,
      "outputs": []
    },
    {
      "metadata": {
        "id": "_dBGV4EKUUqm",
        "colab_type": "code",
        "colab": {}
      },
      "cell_type": "code",
      "source": [
        ""
      ],
      "execution_count": 0,
      "outputs": []
    },
    {
      "metadata": {
        "id": "kDUQKXzx4lom",
        "colab_type": "code",
        "colab": {
          "base_uri": "https://localhost:8080/",
          "height": 1241
        },
        "outputId": "3d5552cc-180a-49a2-e72f-224765216063"
      },
      "cell_type": "code",
      "source": [
        "for token in doc:\n",
        "    print(token.text, token.pos_, token.dep_)"
      ],
      "execution_count": 32,
      "outputs": [
        {
          "output_type": "stream",
          "text": [
            "The DET det\n",
            "port NOUN nsubj\n",
            "is VERB ROOT\n",
            "the DET det\n",
            "main ADJ amod\n",
            "point NOUN attr\n",
            "of ADP prep\n",
            "entry NOUN pobj\n",
            "for ADP prep\n",
            "aid NOUN pobj\n",
            "for ADP prep\n",
            "people NOUN pobj\n",
            "in ADP prep\n",
            "rebel NOUN npadvmod\n",
            "- PUNCT punct\n",
            "held VERB amod\n",
            "areas NOUN pobj\n",
            "and CCONJ cc\n",
            "agencies NOUN conj\n",
            "have VERB aux\n",
            "warned VERB relcl\n",
            "of ADP prep\n",
            "a DET det\n",
            "humanitarian ADJ amod\n",
            "catastrophe NOUN pobj\n",
            "if ADP mark\n",
            "it PRON nsubjpass\n",
            "is VERB auxpass\n",
            "attacked VERB advcl\n",
            ". PUNCT punct\n",
            "About ADV advmod\n",
            "eight NUM compound\n",
            "million NUM nummod\n",
            "people NOUN nsubj\n",
            "in ADP prep\n",
            "the DET det\n",
            "war NOUN npadvmod\n",
            "- PUNCT punct\n",
            "torn VERB amod\n",
            "country NOUN pobj\n",
            "are VERB ROOT\n",
            "at ADP prep\n",
            "risk NOUN pobj\n",
            "of ADP prep\n",
            "starvation NOUN pobj\n",
            ". PUNCT punct\n",
            "Bombing NOUN nsubj\n",
            "started VERB ROOT\n",
            "after ADP mark\n",
            "Iranian PROPN npadvmod\n",
            "- PUNCT punct\n",
            "backed VERB amod\n",
            "Houthi PROPN compound\n",
            "rebels NOUN nsubj\n",
            "ignored VERB advcl\n",
            "a DET det\n",
            "deadline NOUN dobj\n",
            "set VERB acl\n",
            "by ADP agent\n",
            "the DET det\n",
            "government NOUN pobj\n",
            "to PART aux\n",
            "withdraw VERB acl\n",
            "by ADP prep\n",
            "midnight NOUN pobj\n",
            "( PUNCT punct\n",
            "21:00 NUM nummod\n",
            "GMT PROPN appos\n",
            "on ADP prep\n",
            "Tuesday PROPN pobj\n",
            ") PUNCT punct\n",
            ". PUNCT punct\n"
          ],
          "name": "stdout"
        }
      ]
    },
    {
      "metadata": {
        "id": "aTx_fzQcUY15",
        "colab_type": "code",
        "colab": {
          "base_uri": "https://localhost:8080/",
          "height": 119
        },
        "outputId": "04110f7f-6379-4d5a-dc89-bf44c4aedb08"
      },
      "cell_type": "code",
      "source": [
        "for ent in doc.ents:\n",
        "    print(ent.text, ent.start_char, ent.end_char, ent.label_)"
      ],
      "execution_count": 33,
      "outputs": [
        {
          "output_type": "stream",
          "text": [
            "About eight million 149 168 CARDINAL\n",
            "Iranian 249 256 NORP\n",
            "Houthi 264 270 GPE\n",
            "midnight 334 342 TIME\n",
            "21:00 GMT 344 353 TIME\n",
            "Tuesday 357 364 DATE\n"
          ],
          "name": "stdout"
        }
      ]
    },
    {
      "metadata": {
        "id": "JuT4Js1xU8Jt",
        "colab_type": "code",
        "colab": {
          "base_uri": "https://localhost:8080/",
          "height": 1241
        },
        "outputId": "c5127597-7388-44c7-af31-0d7747a30e54"
      },
      "cell_type": "code",
      "source": [
        "for token in doc:\n",
        "    print(token.text, token.has_vector, token.vector_norm, token.is_oov)"
      ],
      "execution_count": 34,
      "outputs": [
        {
          "output_type": "stream",
          "text": [
            "The True 4.70935 False\n",
            "port True 7.4397664 False\n",
            "is True 4.890306 False\n",
            "the True 4.70935 False\n",
            "main True 5.490018 False\n",
            "point True 5.1772804 False\n",
            "of True 4.97793 False\n",
            "entry True 5.591948 False\n",
            "for True 4.8435082 False\n",
            "aid True 5.995268 False\n",
            "for True 4.8435082 False\n",
            "people True 5.853792 False\n",
            "in True 5.0929856 False\n",
            "rebel True 6.8430085 False\n",
            "- True 5.6033444 False\n",
            "held True 5.822392 False\n",
            "areas True 6.5302625 False\n",
            "and True 4.6577983 False\n",
            "agencies True 7.017033 False\n",
            "have True 5.036123 False\n",
            "warned True 5.6605377 False\n",
            "of True 4.97793 False\n",
            "a True 5.306696 False\n",
            "humanitarian True 7.442478 False\n",
            "catastrophe True 6.2105937 False\n",
            "if True 5.0759225 False\n",
            "it True 4.9409766 False\n",
            "is True 4.890306 False\n",
            "attacked True 6.2895865 False\n",
            ". True 4.9316354 False\n",
            "About True 5.1926293 False\n",
            "eight True 5.8137617 False\n",
            "million True 7.445055 False\n",
            "people True 5.853792 False\n",
            "in True 5.0929856 False\n",
            "the True 4.70935 False\n",
            "war True 6.890236 False\n",
            "- True 5.6033444 False\n",
            "torn True 6.5359707 False\n",
            "country True 6.06488 False\n",
            "are True 5.41568 False\n",
            "at True 6.0998254 False\n",
            "risk True 6.648183 False\n",
            "of True 4.97793 False\n",
            "starvation True 7.1566486 False\n",
            ". True 4.9316354 False\n",
            "Bombing True 7.306595 False\n",
            "started True 5.542022 False\n",
            "after True 5.4450026 False\n",
            "Iranian True 6.4491053 False\n",
            "- True 5.6033444 False\n",
            "backed True 5.5419626 False\n",
            "Houthi False 0.0 False\n",
            "rebels True 7.263067 False\n",
            "ignored True 5.440941 False\n",
            "a True 5.306696 False\n",
            "deadline True 6.7056303 False\n",
            "set True 5.176063 False\n",
            "by True 6.015159 False\n",
            "the True 4.70935 False\n",
            "government True 6.9297547 False\n",
            "to True 4.74484 False\n",
            "withdraw True 6.180611 False\n",
            "by True 6.015159 False\n",
            "midnight True 6.266597 False\n",
            "( True 5.781955 False\n",
            "21:00 True 6.700885 False\n",
            "GMT True 7.353657 False\n",
            "on True 5.218119 False\n",
            "Tuesday True 5.9484434 False\n",
            ") True 5.489806 False\n",
            ". True 4.9316354 False\n"
          ],
          "name": "stdout"
        }
      ]
    },
    {
      "metadata": {
        "id": "SWrUTu8sZF1K",
        "colab_type": "code",
        "colab": {
          "base_uri": "https://localhost:8080/",
          "height": 1241
        },
        "outputId": "5bc7a852-2407-49a7-9f26-33a31fbc31a3"
      },
      "cell_type": "code",
      "source": [
        "for word in doc:\n",
        "    lexeme = doc.vocab[word.text]\n",
        "    print(lexeme.text, lexeme.orth, lexeme.shape_, lexeme.prefix_, lexeme.suffix_,\n",
        "          lexeme.is_alpha, lexeme.is_digit, lexeme.is_title, lexeme.lang_)"
      ],
      "execution_count": 35,
      "outputs": [
        {
          "output_type": "stream",
          "text": [
            "The 5059648917813135842 Xxx T The True False True en\n",
            "port 3278290346171245902 xxxx p ort True False False en\n",
            "is 3411606890003347522 xx i is True False False en\n",
            "the 7425985699627899538 xxx t the True False False en\n",
            "main 11645434534719424374 xxxx m ain True False False en\n",
            "point 15479733260938818482 xxxx p int True False False en\n",
            "of 886050111519832510 xx o of True False False en\n",
            "entry 10440954363154843962 xxxx e try True False False en\n",
            "for 16037325823156266367 xxx f for True False False en\n",
            "aid 11586757942818230145 xxx a aid True False False en\n",
            "for 16037325823156266367 xxx f for True False False en\n",
            "people 7593739049417968140 xxxx p ple True False False en\n",
            "in 3002984154512732771 xx i in True False False en\n",
            "rebel 11970485252896676139 xxxx r bel True False False en\n",
            "- 9153284864653046197 - - - False False False en\n",
            "held 3193630459561461984 xxxx h eld True False False en\n",
            "areas 8712024525343010093 xxxx a eas True False False en\n",
            "and 2283656566040971221 xxx a and True False False en\n",
            "agencies 2833597281053035892 xxxx a ies True False False en\n",
            "have 14692702688101715474 xxxx h ave True False False en\n",
            "warned 12859875722877635766 xxxx w ned True False False en\n",
            "of 886050111519832510 xx o of True False False en\n",
            "a 11901859001352538922 x a a True False False en\n",
            "humanitarian 14783672671458896720 xxxx h ian True False False en\n",
            "catastrophe 13507091014992773057 xxxx c phe True False False en\n",
            "if 12446819118446800910 xx i if True False False en\n",
            "it 10239237003504588839 xx i it True False False en\n",
            "is 3411606890003347522 xx i is True False False en\n",
            "attacked 15259528277589946767 xxxx a ked True False False en\n",
            ". 12646065887601541794 . . . False False False en\n",
            "About 4960453619329793961 Xxxxx A out True False True en\n",
            "eight 3823348673703431224 xxxx e ght True False False en\n",
            "million 17365054503653917826 xxxx m ion True False False en\n",
            "people 7593739049417968140 xxxx p ple True False False en\n",
            "in 3002984154512732771 xx i in True False False en\n",
            "the 7425985699627899538 xxx t the True False False en\n",
            "war 1269071886833429403 xxx w war True False False en\n",
            "- 9153284864653046197 - - - False False False en\n",
            "torn 13163852397013500285 xxxx t orn True False False en\n",
            "country 12290671265767728302 xxxx c try True False False en\n",
            "are 5012629990875267006 xxx a are True False False en\n",
            "at 11667289587015813222 xx a at True False False en\n",
            "risk 14326900376835226264 xxxx r isk True False False en\n",
            "of 886050111519832510 xx o of True False False en\n",
            "starvation 6533038776376926178 xxxx s ion True False False en\n",
            ". 12646065887601541794 . . . False False False en\n",
            "Bombing 17462333352977860485 Xxxxx B ing True False True en\n",
            "started 17976686883172633439 xxxx s ted True False False en\n",
            "after 13428508259213873547 xxxx a ter True False False en\n",
            "Iranian 14043221607641866418 Xxxxx I ian True False True en\n",
            "- 9153284864653046197 - - - False False False en\n",
            "backed 9900325052794261284 xxxx b ked True False False en\n",
            "Houthi 12969268132633345364 Xxxxx H thi True False True en\n",
            "rebels 2694276685497781193 xxxx r els True False False en\n",
            "ignored 13226335619999904025 xxxx i red True False False en\n",
            "a 11901859001352538922 x a a True False False en\n",
            "deadline 6686917828522076492 xxxx d ine True False False en\n",
            "set 11268780503345276587 xxx s set True False False en\n",
            "by 16764210730586636600 xx b by True False False en\n",
            "the 7425985699627899538 xxx t the True False False en\n",
            "government 3625794390087546215 xxxx g ent True False False en\n",
            "to 3791531372978436496 xx t to True False False en\n",
            "withdraw 12446556891538123165 xxxx w raw True False False en\n",
            "by 16764210730586636600 xx b by True False False en\n",
            "midnight 10935824631021764963 xxxx m ght True False False en\n",
            "( 12638816674900267446 ( ( ( False False False en\n",
            "21:00 12707347670909345001 dd:dd 2 :00 False False False en\n",
            "GMT 7202556221840501172 XXX G GMT True False False en\n",
            "on 5640369432778651323 xx o on True False False en\n",
            "Tuesday 7455104463836291444 Xxxxx T day True False True en\n",
            ") 3842344029291005339 ) ) ) False False False en\n",
            ". 12646065887601541794 . . . False False False en\n"
          ],
          "name": "stdout"
        }
      ]
    },
    {
      "metadata": {
        "id": "fFSthmopf2q_",
        "colab_type": "code",
        "colab": {}
      },
      "cell_type": "code",
      "source": [
        "from spacy import displacy"
      ],
      "execution_count": 0,
      "outputs": []
    },
    {
      "metadata": {
        "id": "u_9QPeRjdwCK",
        "colab_type": "code",
        "colab": {}
      },
      "cell_type": "code",
      "source": [
        "html = displacy.render(doc, style='ent')"
      ],
      "execution_count": 0,
      "outputs": []
    },
    {
      "metadata": {
        "id": "A_LDbFVYfqsn",
        "colab_type": "code",
        "colab": {
          "base_uri": "https://localhost:8080/",
          "height": 122
        },
        "outputId": "33c633a5-6c50-481e-a8a0-95fecf2a477c"
      },
      "cell_type": "code",
      "source": [
        "from IPython.core.display import display, HTML\n",
        "    \n",
        "display(HTML(html))"
      ],
      "execution_count": 42,
      "outputs": [
        {
          "output_type": "display_data",
          "data": {
            "text/html": [
              "<div class=\"entities\" style=\"line-height: 2.5\">The port is the main point of entry for aid for people in rebel-held areas and agencies have warned of a humanitarian catastrophe if it is attacked. \n",
              "<mark class=\"entity\" style=\"background: #e4e7d2; padding: 0.45em 0.6em; margin: 0 0.25em; line-height: 1; border-radius: 0.35em; box-decoration-break: clone; -webkit-box-decoration-break: clone\">\n",
              "    About eight million\n",
              "    <span style=\"font-size: 0.8em; font-weight: bold; line-height: 1; border-radius: 0.35em; text-transform: uppercase; vertical-align: middle; margin-left: 0.5rem\">CARDINAL</span>\n",
              "</mark>\n",
              " people in the war-torn country are at risk of starvation. Bombing started after \n",
              "<mark class=\"entity\" style=\"background: #c887fb; padding: 0.45em 0.6em; margin: 0 0.25em; line-height: 1; border-radius: 0.35em; box-decoration-break: clone; -webkit-box-decoration-break: clone\">\n",
              "    Iranian\n",
              "    <span style=\"font-size: 0.8em; font-weight: bold; line-height: 1; border-radius: 0.35em; text-transform: uppercase; vertical-align: middle; margin-left: 0.5rem\">NORP</span>\n",
              "</mark>\n",
              "-backed \n",
              "<mark class=\"entity\" style=\"background: #feca74; padding: 0.45em 0.6em; margin: 0 0.25em; line-height: 1; border-radius: 0.35em; box-decoration-break: clone; -webkit-box-decoration-break: clone\">\n",
              "    Houthi\n",
              "    <span style=\"font-size: 0.8em; font-weight: bold; line-height: 1; border-radius: 0.35em; text-transform: uppercase; vertical-align: middle; margin-left: 0.5rem\">GPE</span>\n",
              "</mark>\n",
              " rebels ignored a deadline set by the government to withdraw by \n",
              "<mark class=\"entity\" style=\"background: #bfe1d9; padding: 0.45em 0.6em; margin: 0 0.25em; line-height: 1; border-radius: 0.35em; box-decoration-break: clone; -webkit-box-decoration-break: clone\">\n",
              "    midnight\n",
              "    <span style=\"font-size: 0.8em; font-weight: bold; line-height: 1; border-radius: 0.35em; text-transform: uppercase; vertical-align: middle; margin-left: 0.5rem\">TIME</span>\n",
              "</mark>\n",
              " (\n",
              "<mark class=\"entity\" style=\"background: #bfe1d9; padding: 0.45em 0.6em; margin: 0 0.25em; line-height: 1; border-radius: 0.35em; box-decoration-break: clone; -webkit-box-decoration-break: clone\">\n",
              "    21:00 GMT\n",
              "    <span style=\"font-size: 0.8em; font-weight: bold; line-height: 1; border-radius: 0.35em; text-transform: uppercase; vertical-align: middle; margin-left: 0.5rem\">TIME</span>\n",
              "</mark>\n",
              " on \n",
              "<mark class=\"entity\" style=\"background: #bfe1d9; padding: 0.45em 0.6em; margin: 0 0.25em; line-height: 1; border-radius: 0.35em; box-decoration-break: clone; -webkit-box-decoration-break: clone\">\n",
              "    Tuesday\n",
              "    <span style=\"font-size: 0.8em; font-weight: bold; line-height: 1; border-radius: 0.35em; text-transform: uppercase; vertical-align: middle; margin-left: 0.5rem\">DATE</span>\n",
              "</mark>\n",
              ").</div>"
            ],
            "text/plain": [
              "<IPython.core.display.HTML object>"
            ]
          },
          "metadata": {
            "tags": []
          }
        }
      ]
    },
    {
      "metadata": {
        "id": "huF02YUlgxCO",
        "colab_type": "code",
        "colab": {}
      },
      "cell_type": "code",
      "source": [
        ""
      ],
      "execution_count": 0,
      "outputs": []
    }
  ]
}