{
 "cells": [
  {
   "cell_type": "code",
   "execution_count": 67,
   "metadata": {
    "collapsed": true
   },
   "outputs": [],
   "source": [
    "import nltk\n",
    "import re\n",
    "import json"
   ]
  },
  {
   "cell_type": "code",
   "execution_count": 68,
   "metadata": {
    "collapsed": true
   },
   "outputs": [],
   "source": [
    "import nltk.tokenize.punkt\n",
    "# Utgår tills vidare från https://machinelearningmastery.com/clean-text-machine-learning-python/ \n",
    "# Det som saknas i nltk laddas ner via konstigt GUI direkt i Python3: >>> import nltk >>> nltk.download()"
   ]
  },
  {
   "cell_type": "code",
   "execution_count": 69,
   "metadata": {
    "collapsed": true
   },
   "outputs": [],
   "source": [
    "# load data\n",
    "filename = 'h5b319.txt'\n",
    "file = open(filename, 'rt')\n",
    "text = file.read()\n",
    "file.close()"
   ]
  },
  {
   "cell_type": "code",
   "execution_count": 70,
   "metadata": {
    "collapsed": true
   },
   "outputs": [],
   "source": [
    "avspaerra = re.compile('(?<=\\s\\S)\\s(?!\\S\\S)', re.S)\n",
    "text = re.sub(avspaerra, '', text)\n",
    "text = text.replace('\\n',' ')"
   ]
  },
  {
   "cell_type": "code",
   "execution_count": 71,
   "metadata": {},
   "outputs": [
    {
     "name": "stdout",
     "output_type": "stream",
     "text": [
      "Uppdrag: Samverkan  Steg på vägen mot fördjupad lokal samverkan för unga arbetslösa  Delbetänkande av  Delegationen för unga och nyanlända till arbete  Stockholm 2017  SOU 2017:19  SOU och Ds kan köpas från Wolters Kluwers kundservice.\n"
     ]
    }
   ],
   "source": [
    "# split into sentences\n",
    "from nltk import sent_tokenize\n",
    "sentences = sent_tokenize(text)\n",
    "print(sentences[0])"
   ]
  },
  {
   "cell_type": "code",
   "execution_count": 72,
   "metadata": {},
   "outputs": [
    {
     "name": "stdout",
     "output_type": "stream",
     "text": [
      "['..', '19', '1', 'Inledning', '...', '...', '...', '...', '...', '...', '...', '...', '...', '...', '...', '...', '...', '...', '...', '...', '...', '...', '...', '...', '...', '...', '21', '1.1', 'Delegationens', 'uppdrag', '...', '...', '...', '...', '...', '...', '...', '...', '...', '...', '...', '...', '...', '...', '...', '...', '...', '...', '...', '..', '21', '1.2', 'Betänkandets', 'disposition', '...', '...', '...', '...', '...', '...', '...', '...', '...', '...', '...', '...', '...', '...', '...', '...', '...', '...', '..', '22', '1.3', 'Delegation', 'och', 'kansli', '...', '...', '...', '...', '...', '...', '...', '...', '...', '...', '...', '...', '...', '...', '...', '...', '...', '...', '...', '...', '.', '23']\n"
     ]
    }
   ],
   "source": [
    "# split into words\n",
    "from nltk.tokenize import word_tokenize\n",
    "tokens = word_tokenize(text)\n",
    "print(tokens[900:1000])"
   ]
  },
  {
   "cell_type": "code",
   "execution_count": 73,
   "metadata": {},
   "outputs": [
    {
     "name": "stdout",
     "output_type": "stream",
     "text": [
      "['Uppdrag', 'Samverkan', 'Steg', 'vägen', 'fördjupad', 'lokal', 'samverkan', 'unga', 'arbetslösa', 'Delbetänkande', 'Delegationen', 'unga', 'nyanlända', 'arbete', 'Stockholm', 'SOU', 'SOU', 'Ds', 'köpas', 'Wolters', 'Kluwers', 'kundservice', 'Beställningsadress', 'Wolters', 'Kluwers', 'kundservice', 'Stockholm', 'Ordertelefon', 'Epost', 'kundservice', 'wolterskluwerse', 'Webbplats', 'wolterskluwerseoffentligapublikationer', 'För', 'remissutsändningar', 'SOU', 'Ds', 'svarar', 'Wolters', 'Kluwer', 'Sverige', 'AB', 'uppdrag', 'Regeringskansliets', 'förvaltningsavdelning', 'Svara', 'remiss', 'Statsrådsberedningen', 'SB', 'PM', 'reviderad', 'En', 'kort', 'handledning', 'ska', 'svara', 'remiss', 'Häftet', 'gratis', 'laddas', 'ner', 'pdf', 'beställas', 'regeringenseremisser', 'Layout', 'Kommittéservice', 'Regeringskansliet', 'Omslag', 'Elanders', 'Sverige', 'AB', 'Tryck', 'Elanders', 'Sverige', 'AB', 'Stockholm', 'ISBN', 'ISSN', 'Till', 'statsrådet', 'Ylva', 'Johansson', 'Regeringen', 'beslutade', 'december', 'tillsätta', 'delegation', 'större', 'genomslag', 'arbetsmarknadspolitiska', 'insatser', 'ungdomsarbetslösheten', 'lokal', 'nivå', 'A', 'uppdraget', 'främja', 'statlig', 'kommunal', 'samverkan']\n"
     ]
    }
   ],
   "source": [
    "# remove punctuation from each word\n",
    "import string\n",
    "table = str.maketrans('', '', string.punctuation)\n",
    "stripped = [w.translate(table) for w in tokens]\n",
    "# remove remaining tokens that are not alphabetic\n",
    "words = [word for word in stripped if word.isalpha()]\n",
    "# filter out stop words\n",
    "from nltk.corpus import stopwords\n",
    "stop_words = set(stopwords.words('swedish'))\n",
    "words = [w for w in words if not w in stop_words]\n",
    "print(words[:100])"
   ]
  },
  {
   "cell_type": "code",
   "execution_count": 75,
   "metadata": {},
   "outputs": [],
   "source": [
    "# Returnerar ett dictionary\n",
    "tabell = {}\n",
    "\n",
    "for ordet in words:\n",
    "    if ordet not in tabell:\n",
    "        tabell[ordet] = 1\n",
    "    else:\n",
    "        tabell[ordet] = tabell[ordet] + 1\n",
    "#for ordtyp in tabell:\n",
    "#    print (ordtyp, tabell[ordtyp])"
   ]
  },
  {
   "cell_type": "code",
   "execution_count": 76,
   "metadata": {
    "collapsed": true
   },
   "outputs": [],
   "source": [
    "# Ta bort alla ord som bara förekommer en gång\n",
    "key_list = list( tabell.keys() )\n",
    "\n",
    "for word in key_list:\n",
    "    if tabell[word] == 1: del tabell[word]"
   ]
  },
  {
   "cell_type": "code",
   "execution_count": 77,
   "metadata": {},
   "outputs": [
    {
     "data": {
      "text/plain": [
       "2911"
      ]
     },
     "execution_count": 77,
     "metadata": {},
     "output_type": "execute_result"
    }
   ],
   "source": [
    "len(tabell)"
   ]
  },
  {
   "cell_type": "code",
   "execution_count": 78,
   "metadata": {},
   "outputs": [],
   "source": [
    "filename = 'utils/stats_GP2013_out.txt'\n",
    "file = open(filename, 'rt')\n",
    "base_freqs = json.loads(file.read())\n",
    "file.close()"
   ]
  },
  {
   "cell_type": "code",
   "execution_count": 79,
   "metadata": {},
   "outputs": [],
   "source": [
    "#base_freqs"
   ]
  },
  {
   "cell_type": "code",
   "execution_count": 82,
   "metadata": {},
   "outputs": [
    {
     "name": "stdout",
     "output_type": "stream",
     "text": [
      "Förordning 17\n",
      "Inledning 11\n",
      "språkintroduktion 14\n",
      "Duas 85\n",
      "Angelägna 28\n",
      "Upphandlingsmyndigheten 11\n",
      "upphandlingsregelverket 15\n",
      "respondenterna 10\n",
      "etableringsuppdraget 33\n",
      "arbetsförmedlingskontor 30\n",
      "arbets 11\n",
      "MUCF 13\n",
      "Bilaga 17\n",
      "traineejobb 23\n",
      "arbetsmarknads 10\n",
      "samverkansformer 11\n",
      "förordnades 11\n",
      "etableringsplan 10\n",
      "aktivitetsansvar 10\n",
      "jobbgaranti 12\n",
      "aktivitetsansvaret 10\n",
      "dialogmötena 12\n",
      "delegationens 47\n"
     ]
    }
   ],
   "source": [
    "a=0\n",
    "for word in tabell.keys():\n",
    "    try: \n",
    "        base_freqs[word]\n",
    "        pass\n",
    "    except:\n",
    "        if tabell[word]>9:\n",
    "            print(word, tabell[word])\n",
    "            a+=1"
   ]
  },
  {
   "cell_type": "code",
   "execution_count": 81,
   "metadata": {},
   "outputs": [
    {
     "data": {
      "text/plain": [
       "23"
      ]
     },
     "execution_count": 81,
     "metadata": {},
     "output_type": "execute_result"
    }
   ],
   "source": [
    "a"
   ]
  },
  {
   "cell_type": "code",
   "execution_count": null,
   "metadata": {
    "collapsed": true
   },
   "outputs": [],
   "source": []
  },
  {
   "cell_type": "code",
   "execution_count": null,
   "metadata": {
    "collapsed": true
   },
   "outputs": [],
   "source": []
  }
 ],
 "metadata": {
  "kernelspec": {
   "display_name": "Python 3",
   "language": "python",
   "name": "python3"
  },
  "language_info": {
   "codemirror_mode": {
    "name": "ipython",
    "version": 3
   },
   "file_extension": ".py",
   "mimetype": "text/x-python",
   "name": "python",
   "nbconvert_exporter": "python",
   "pygments_lexer": "ipython3",
   "version": "3.5.4"
  }
 },
 "nbformat": 4,
 "nbformat_minor": 2
}
